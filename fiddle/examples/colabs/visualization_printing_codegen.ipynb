{
  "cells": [
    {
      "cell_type": "markdown",
      "metadata": {
        "id": "g-6PWMr45WIL"
      },
      "source": [
        "# Fiddle visualization, printing, and codegen\n",
        "\n",
        "*Please see https://github.com/google/fiddle/blob/main/docs/colabs.md for other colabs.*\n",
        "\n",
        "Fiddle allows developers to visualize their configuration DAGs in a variety of\n",
        "ways. These introspection tools can be used to:\n",
        "\n",
        "*   Modify configuration, e.g. when an experimenter is customizing a model that\n",
        "    is complex.\n",
        "*   Dump all configuration values when an experiment is launched, in order to\n",
        "    create concise summaries of the effective configuration.\n",
        "*   Debug experimental configuration override code, by printing a history of\n",
        "    assignments to config values."
      ]
    },
    {
      "cell_type": "code",
      "execution_count": 1,
      "metadata": {
        "executionInfo": {
          "elapsed": 2344,
          "status": "ok",
          "timestamp": 1641844786696,
          "user": {
            "displayName": "",
            "photoUrl": "",
            "userId": ""
          },
          "user_tz": 480
        },
        "id": "IxyQ9TPX5RWs"
      },
      "outputs": [],
      "source": [
        "!pip install fiddle-config\n",
        "\n",
        "\n",
        "import fiddle as fdl\n",
        "from fiddle import graphviz\n",
        "from fiddle import printing\n",
        "from fiddle.codegen import codegen\n",
        "from fiddle.experimental import visualize\n",
        "import fiddle.extensions.jax\n",
        "\n",
        "fiddle.extensions.jax.enable()  # Nicer printout for JAX types; non-essential."
      ]
    },
    {
      "cell_type": "markdown",
      "metadata": {
        "id": "tpND73mT75cA"
      },
      "source": [
        "## Running example\n",
        "\n",
        "Let's consider a dual encoder model, similar to our intro notebook. In this\n",
        "case, we'll aim to configure a model that has separate continuous encoders for\n",
        "queries and documents, but shares token embeddings."
      ]
    },
    {
      "cell_type": "code",
      "execution_count": 2,
      "metadata": {
        "executionInfo": {
          "elapsed": 2130,
          "status": "ok",
          "timestamp": 1641844788993,
          "user": {
            "displayName": "",
            "photoUrl": "",
            "userId": ""
          },
          "user_tz": 480
        },
        "id": "C-ZuYc4b7uVY",
        "outputId": "26d62f72-2e9d-408b-de39-fa3607073a30"
      },
      "outputs": [
        {
          "data": {
            "text/plain": [
              "DeviceArray([-1.0962983 ,  0.07550135, -0.14652269], dtype=float32)"
            ]
          },
          "execution_count": 2,
          "metadata": {},
          "output_type": "execute_result"
        }
      ],
      "source": [
        "from typing import Any, Dict\n",
        "\n",
        "from flax import linen as nn\n",
        "import jax\n",
        "import jax.numpy as jnp\n",
        "\n",
        "\n",
        "class TokenEmbedder(nn.Module):\n",
        "  num_embeddings: int\n",
        "  features: int\n",
        "  embedding_init: Any\n",
        "  dtype: Any = jnp.float32  # Activation dtype; params are always float32\n",
        "\n",
        "  def setup(self):\n",
        "    self.embedding = self.param(\n",
        "        'embedding',\n",
        "        self.embedding_init,\n",
        "        (self.num_embeddings, self.features),\n",
        "        jnp.float32,\n",
        "    )\n",
        "\n",
        "  def __call__(self, inputs: jnp.ndarray) -\u003e jnp.ndarray:\n",
        "    return jnp.asarray(self.embedding[inputs], self.dtype)\n",
        "\n",
        "\n",
        "class SimpleEncoder(nn.Module):\n",
        "  token_embedder: nn.Module\n",
        "  output_features: int\n",
        "\n",
        "  @nn.compact\n",
        "  def __call__(self, inputs: jnp.ndarray) -\u003e jnp.ndarray:\n",
        "    embedded = self.token_embedder(inputs)\n",
        "    return nn.Dense(features=self.output_features)(embedded)\n",
        "\n",
        "\n",
        "class DualEncoder(nn.Module):\n",
        "  query_encoder: SimpleEncoder\n",
        "  document_encoder: SimpleEncoder\n",
        "\n",
        "  def __call__(self, query, document):\n",
        "    return jnp.einsum(\n",
        "        '...h,...h-\u003e...',\n",
        "        self.query_encoder(query),\n",
        "        self.document_encoder(document),\n",
        "    )\n",
        "\n",
        "\n",
        "def base_config() -\u003e fdl.Config[DualEncoder]:\n",
        "  shared_token_embedder = fdl.Config(\n",
        "      TokenEmbedder,\n",
        "      num_embeddings=12,\n",
        "      features=3,\n",
        "      embedding_init=fdl.Config(\n",
        "          nn.initializers.variance_scaling, 1.0, 'fan_in', 'normal',\n",
        "          out_axis=0))\n",
        "  return fdl.Config(\n",
        "      DualEncoder,\n",
        "      query_encoder=fdl.Config(SimpleEncoder, shared_token_embedder, 12),\n",
        "      document_encoder=fdl.Config(SimpleEncoder, shared_token_embedder, 12),\n",
        "  )\n",
        "\n",
        "\n",
        "# Run the model, just to show that it is a valid Flax module.\n",
        "model = fdl.build(base_config())\n",
        "output, variables = model.init_with_output(\n",
        "    jax.random.PRNGKey(0),\n",
        "    query=jnp.array([1, 2, 4], jnp.int32),\n",
        "    document=jnp.array([1, 2, 4], jnp.int32),\n",
        ")\n",
        "output"
      ]
    },
    {
      "cell_type": "markdown",
      "metadata": {
        "id": "LIQgowNHd1en"
      },
      "source": [
        "## Graphviz rendering\n",
        "\n",
        "We can visualize this model using the `graphviz.render()` API,"
      ]
    },
    {
      "cell_type": "code",
      "execution_count": 3,
      "metadata": {
        "colab": {
          "height": 556
        },
        "executionInfo": {
          "elapsed": 18473,
          "status": "ok",
          "timestamp": 1641844807630,
          "user": {
            "displayName": "",
            "photoUrl": "",
            "userId": ""
          },
          "user_tz": 480
        },
        "id": "XbBAsdcAd1Iv",
        "outputId": "e8fff3cd-8882-465a-bb07-57a5d16e5eb5"
      },
      "outputs": [
        {
          "data": {
            "image/svg+xml": "\u003c?xml version=\"1.0\" encoding=\"UTF-8\" standalone=\"no\"?\u003e\n\u003c!DOCTYPE svg PUBLIC \"-//W3C//DTD SVG 1.1//EN\"\n \"http://www.w3.org/Graphics/SVG/1.1/DTD/svg11.dtd\"\u003e\n\u003c!-- Generated by graphviz version 2.44.1 (20201121.0304)\n --\u003e\n\u003c!-- Pages: 1 --\u003e\n\u003csvg width=\"314pt\" height=\"401pt\"\n viewBox=\"0.00 0.00 314.00 401.00\" xmlns=\"http://www.w3.org/2000/svg\" xmlns:xlink=\"http://www.w3.org/1999/xlink\"\u003e\n\u003cg id=\"graph0\" class=\"graph\" transform=\"scale(1 1) rotate(0) translate(4 397)\"\u003e\n\u003cpolygon fill=\"white\" stroke=\"transparent\" points=\"-4,4 -4,-397 310,-397 310,4 -4,4\"/\u003e\n\u003c!-- 3 --\u003e\n\u003cg id=\"node1\" class=\"node\"\u003e\n\u003ctitle\u003e3\u003c/title\u003e\n\u003cpolygon fill=\"#ffa07a\" stroke=\"transparent\" points=\"163.5,-75.5 163.5,-94.5 306.5,-94.5 306.5,-75.5 163.5,-75.5\"/\u003e\n\u003cpolygon fill=\"none\" stroke=\"black\" points=\"163.5,-75.5 163.5,-94.5 306.5,-94.5 306.5,-75.5 163.5,-75.5\"/\u003e\n\u003ctext text-anchor=\"start\" x=\"167.5\" y=\"-83.5\" font-family=\"Courier,monospace\" font-size=\"8.00\"\u003eConfig:\u003c/text\u003e\n\u003ctext text-anchor=\"start\" x=\"199.5\" y=\"-83.5\" font-family=\"Courier,monospace\" font-size=\"10.00\"\u003e variance_scaling\u003c/text\u003e\n\u003cpolygon fill=\"#eeeeee\" stroke=\"transparent\" points=\"163.5,-56.5 163.5,-75.5 246.5,-75.5 246.5,-56.5 163.5,-56.5\"/\u003e\n\u003cpolygon fill=\"none\" stroke=\"black\" points=\"163.5,-56.5 163.5,-75.5 246.5,-75.5 246.5,-56.5 163.5,-56.5\"/\u003e\n\u003ctext text-anchor=\"start\" x=\"211.5\" y=\"-63.5\" font-family=\"Courier,monospace\" font-size=\"10.00\"\u003escale\u003c/text\u003e\n\u003cpolygon fill=\"none\" stroke=\"black\" points=\"246.5,-56.5 246.5,-75.5 306.5,-75.5 306.5,-56.5 246.5,-56.5\"/\u003e\n\u003ctext text-anchor=\"start\" x=\"250.5\" y=\"-63.5\" font-family=\"Courier,monospace\" font-size=\"10.00\"\u003e1.0\u003c/text\u003e\n\u003cpolygon fill=\"#eeeeee\" stroke=\"transparent\" points=\"163.5,-37.5 163.5,-56.5 246.5,-56.5 246.5,-37.5 163.5,-37.5\"/\u003e\n\u003cpolygon fill=\"none\" stroke=\"black\" points=\"163.5,-37.5 163.5,-56.5 246.5,-56.5 246.5,-37.5 163.5,-37.5\"/\u003e\n\u003ctext text-anchor=\"start\" x=\"217.5\" y=\"-44.5\" font-family=\"Courier,monospace\" font-size=\"10.00\"\u003emode\u003c/text\u003e\n\u003cpolygon fill=\"none\" stroke=\"black\" points=\"246.5,-37.5 246.5,-56.5 306.5,-56.5 306.5,-37.5 246.5,-37.5\"/\u003e\n\u003ctext text-anchor=\"start\" x=\"250.5\" y=\"-44.5\" font-family=\"Courier,monospace\" font-size=\"10.00\"\u003e\u0026#39;fan_in\u0026#39;\u003c/text\u003e\n\u003cpolygon fill=\"#eeeeee\" stroke=\"transparent\" points=\"163.5,-18.5 163.5,-37.5 246.5,-37.5 246.5,-18.5 163.5,-18.5\"/\u003e\n\u003cpolygon fill=\"none\" stroke=\"black\" points=\"163.5,-18.5 163.5,-37.5 246.5,-37.5 246.5,-18.5 163.5,-18.5\"/\u003e\n\u003ctext text-anchor=\"start\" x=\"169.5\" y=\"-25.5\" font-family=\"Courier,monospace\" font-size=\"10.00\"\u003edistribution\u003c/text\u003e\n\u003cpolygon fill=\"none\" stroke=\"black\" points=\"246.5,-18.5 246.5,-37.5 306.5,-37.5 306.5,-18.5 246.5,-18.5\"/\u003e\n\u003ctext text-anchor=\"start\" x=\"250.5\" y=\"-25.5\" font-family=\"Courier,monospace\" font-size=\"10.00\"\u003e\u0026#39;normal\u0026#39;\u003c/text\u003e\n\u003cpolygon fill=\"#eeeeee\" stroke=\"transparent\" points=\"163.5,0.5 163.5,-18.5 246.5,-18.5 246.5,0.5 163.5,0.5\"/\u003e\n\u003cpolygon fill=\"none\" stroke=\"black\" points=\"163.5,0.5 163.5,-18.5 246.5,-18.5 246.5,0.5 163.5,0.5\"/\u003e\n\u003ctext text-anchor=\"start\" x=\"193.5\" y=\"-6.5\" font-family=\"Courier,monospace\" font-size=\"10.00\"\u003eout_axis\u003c/text\u003e\n\u003cpolygon fill=\"none\" stroke=\"black\" points=\"246.5,0.5 246.5,-18.5 306.5,-18.5 306.5,0.5 246.5,0.5\"/\u003e\n\u003ctext text-anchor=\"start\" x=\"250.5\" y=\"-6.5\" font-family=\"Courier,monospace\" font-size=\"10.00\"\u003e0\u003c/text\u003e\n\u003c/g\u003e\n\u003c!-- 2 --\u003e\n\u003cg id=\"node2\" class=\"node\"\u003e\n\u003ctitle\u003e2\u003c/title\u003e\n\u003cpolygon fill=\"#fff8dc\" stroke=\"transparent\" points=\"122.5,-188 122.5,-207 247.5,-207 247.5,-188 122.5,-188\"/\u003e\n\u003cpolygon fill=\"none\" stroke=\"black\" points=\"122.5,-188 122.5,-207 247.5,-207 247.5,-188 122.5,-188\"/\u003e\n\u003ctext text-anchor=\"start\" x=\"126.5\" y=\"-196\" font-family=\"Courier,monospace\" font-size=\"8.00\"\u003eConfig:\u003c/text\u003e\n\u003ctext text-anchor=\"start\" x=\"158.5\" y=\"-196\" font-family=\"Courier,monospace\" font-size=\"10.00\"\u003e TokenEmbedder\u003c/text\u003e\n\u003cpolygon fill=\"#eeeeee\" stroke=\"transparent\" points=\"122.5,-169 122.5,-188 220.5,-188 220.5,-169 122.5,-169\"/\u003e\n\u003cpolygon fill=\"none\" stroke=\"black\" points=\"122.5,-169 122.5,-188 220.5,-188 220.5,-169 122.5,-169\"/\u003e\n\u003ctext text-anchor=\"start\" x=\"131.5\" y=\"-176\" font-family=\"Courier,monospace\" font-size=\"10.00\"\u003enum_embeddings\u003c/text\u003e\n\u003cpolygon fill=\"none\" stroke=\"black\" points=\"220.5,-169 220.5,-188 247.5,-188 247.5,-169 220.5,-169\"/\u003e\n\u003ctext text-anchor=\"start\" x=\"224.5\" y=\"-176\" font-family=\"Courier,monospace\" font-size=\"10.00\"\u003e12\u003c/text\u003e\n\u003cpolygon fill=\"#eeeeee\" stroke=\"transparent\" points=\"122.5,-150 122.5,-169 220.5,-169 220.5,-150 122.5,-150\"/\u003e\n\u003cpolygon fill=\"none\" stroke=\"black\" points=\"122.5,-150 122.5,-169 220.5,-169 220.5,-150 122.5,-150\"/\u003e\n\u003ctext text-anchor=\"start\" x=\"167.5\" y=\"-157\" font-family=\"Courier,monospace\" font-size=\"10.00\"\u003efeatures\u003c/text\u003e\n\u003cpolygon fill=\"none\" stroke=\"black\" points=\"220.5,-150 220.5,-169 247.5,-169 247.5,-150 220.5,-150\"/\u003e\n\u003ctext text-anchor=\"start\" x=\"224.5\" y=\"-157\" font-family=\"Courier,monospace\" font-size=\"10.00\"\u003e3\u003c/text\u003e\n\u003cpolygon fill=\"#eeeeee\" stroke=\"transparent\" points=\"122.5,-131 122.5,-150 220.5,-150 220.5,-131 122.5,-131\"/\u003e\n\u003cpolygon fill=\"none\" stroke=\"black\" points=\"122.5,-131 122.5,-150 220.5,-150 220.5,-131 122.5,-131\"/\u003e\n\u003ctext text-anchor=\"start\" x=\"131.5\" y=\"-138\" font-family=\"Courier,monospace\" font-size=\"10.00\"\u003eembedding_init\u003c/text\u003e\n\u003cpolygon fill=\"none\" stroke=\"black\" points=\"220.5,-131 220.5,-150 247.5,-150 247.5,-131 220.5,-131\"/\u003e\n\u003cpolygon fill=\"#ffa07a\" stroke=\"transparent\" points=\"224.5,-135 224.5,-146 243.5,-146 243.5,-135 224.5,-135\"/\u003e\n\u003cpolygon fill=\"none\" stroke=\"black\" points=\"224.5,-135 224.5,-146 243.5,-146 243.5,-135 224.5,-135\"/\u003e\n\u003c/g\u003e\n\u003c!-- 2\u0026#45;\u0026#45;3 --\u003e\n\u003cg id=\"edge1\" class=\"edge\"\u003e\n\u003ctitle\u003e2:c\u0026#45;\u0026#45;3:c\u003c/title\u003e\n\u003cpath fill=\"none\" stroke=\"#000000\" stroke-width=\"3\" stroke-opacity=\"0.188235\" d=\"M234.5,-134.88C234.5,-127.55 234.5,-111.48 234.5,-95.16\"/\u003e\n\u003c/g\u003e\n\u003c!-- 1 --\u003e\n\u003cg id=\"node3\" class=\"node\"\u003e\n\u003ctitle\u003e1\u003c/title\u003e\n\u003cpolygon fill=\"#90ee90\" stroke=\"transparent\" points=\"0.5,-280.5 0.5,-299.5 125.5,-299.5 125.5,-280.5 0.5,-280.5\"/\u003e\n\u003cpolygon fill=\"none\" stroke=\"black\" points=\"0.5,-280.5 0.5,-299.5 125.5,-299.5 125.5,-280.5 0.5,-280.5\"/\u003e\n\u003ctext text-anchor=\"start\" x=\"4.5\" y=\"-288.5\" font-family=\"Courier,monospace\" font-size=\"8.00\"\u003eConfig:\u003c/text\u003e\n\u003ctext text-anchor=\"start\" x=\"36.5\" y=\"-288.5\" font-family=\"Courier,monospace\" font-size=\"10.00\"\u003e SimpleEncoder\u003c/text\u003e\n\u003cpolygon fill=\"#eeeeee\" stroke=\"transparent\" points=\"0.5,-261.5 0.5,-280.5 101.5,-280.5 101.5,-261.5 0.5,-261.5\"/\u003e\n\u003cpolygon fill=\"none\" stroke=\"black\" points=\"0.5,-261.5 0.5,-280.5 101.5,-280.5 101.5,-261.5 0.5,-261.5\"/\u003e\n\u003ctext text-anchor=\"start\" x=\"12.5\" y=\"-268.5\" font-family=\"Courier,monospace\" font-size=\"10.00\"\u003etoken_embedder\u003c/text\u003e\n\u003cpolygon fill=\"none\" stroke=\"black\" points=\"101.5,-261.5 101.5,-280.5 125.5,-280.5 125.5,-261.5 101.5,-261.5\"/\u003e\n\u003cpolygon fill=\"#fff8dc\" stroke=\"transparent\" points=\"105.5,-265.5 105.5,-276.5 121.5,-276.5 121.5,-265.5 105.5,-265.5\"/\u003e\n\u003cpolygon fill=\"none\" stroke=\"black\" points=\"105.5,-265.5 105.5,-276.5 121.5,-276.5 121.5,-265.5 105.5,-265.5\"/\u003e\n\u003cpolygon fill=\"#eeeeee\" stroke=\"transparent\" points=\"0.5,-242.5 0.5,-261.5 101.5,-261.5 101.5,-242.5 0.5,-242.5\"/\u003e\n\u003cpolygon fill=\"none\" stroke=\"black\" points=\"0.5,-242.5 0.5,-261.5 101.5,-261.5 101.5,-242.5 0.5,-242.5\"/\u003e\n\u003ctext text-anchor=\"start\" x=\"6.5\" y=\"-249.5\" font-family=\"Courier,monospace\" font-size=\"10.00\"\u003eoutput_features\u003c/text\u003e\n\u003cpolygon fill=\"none\" stroke=\"black\" points=\"101.5,-242.5 101.5,-261.5 125.5,-261.5 125.5,-242.5 101.5,-242.5\"/\u003e\n\u003ctext text-anchor=\"start\" x=\"105.5\" y=\"-249.5\" font-family=\"Courier,monospace\" font-size=\"10.00\"\u003e12\u003c/text\u003e\n\u003c/g\u003e\n\u003c!-- 1\u0026#45;\u0026#45;2 --\u003e\n\u003cg id=\"edge2\" class=\"edge\"\u003e\n\u003ctitle\u003e1:c\u0026#45;\u0026#45;2:c\u003c/title\u003e\n\u003cpath fill=\"none\" stroke=\"#000000\" stroke-width=\"3\" stroke-opacity=\"0.188235\" d=\"M116.55,-265.22C123.66,-255.26 141.95,-229.63 157.76,-207.47\"/\u003e\n\u003c/g\u003e\n\u003c!-- 0 --\u003e\n\u003cg id=\"node4\" class=\"node\"\u003e\n\u003ctitle\u003e0\u003c/title\u003e\n\u003cpolygon fill=\"#ffc0cb\" stroke=\"transparent\" points=\"20.5,-373.5 20.5,-392.5 141.5,-392.5 141.5,-373.5 20.5,-373.5\"/\u003e\n\u003cpolygon fill=\"none\" stroke=\"black\" points=\"20.5,-373.5 20.5,-392.5 141.5,-392.5 141.5,-373.5 20.5,-373.5\"/\u003e\n\u003ctext text-anchor=\"start\" x=\"28.5\" y=\"-381.5\" font-family=\"Courier,monospace\" font-size=\"8.00\"\u003eConfig:\u003c/text\u003e\n\u003ctext text-anchor=\"start\" x=\"60.5\" y=\"-381.5\" font-family=\"Courier,monospace\" font-size=\"10.00\"\u003e DualEncoder\u003c/text\u003e\n\u003cpolygon fill=\"#eeeeee\" stroke=\"transparent\" points=\"20.5,-354.5 20.5,-373.5 125.5,-373.5 125.5,-354.5 20.5,-354.5\"/\u003e\n\u003cpolygon fill=\"none\" stroke=\"black\" points=\"20.5,-354.5 20.5,-373.5 125.5,-373.5 125.5,-354.5 20.5,-354.5\"/\u003e\n\u003ctext text-anchor=\"start\" x=\"42.5\" y=\"-361.5\" font-family=\"Courier,monospace\" font-size=\"10.00\"\u003equery_encoder\u003c/text\u003e\n\u003cpolygon fill=\"none\" stroke=\"black\" points=\"125.5,-354.5 125.5,-373.5 141.5,-373.5 141.5,-354.5 125.5,-354.5\"/\u003e\n\u003cpolygon fill=\"#90ee90\" stroke=\"transparent\" points=\"129.5,-358.5 129.5,-369.5 137.5,-369.5 137.5,-358.5 129.5,-358.5\"/\u003e\n\u003cpolygon fill=\"none\" stroke=\"black\" points=\"129.5,-358.5 129.5,-369.5 137.5,-369.5 137.5,-358.5 129.5,-358.5\"/\u003e\n\u003cpolygon fill=\"#eeeeee\" stroke=\"transparent\" points=\"20.5,-335.5 20.5,-354.5 125.5,-354.5 125.5,-335.5 20.5,-335.5\"/\u003e\n\u003cpolygon fill=\"none\" stroke=\"black\" points=\"20.5,-335.5 20.5,-354.5 125.5,-354.5 125.5,-335.5 20.5,-335.5\"/\u003e\n\u003ctext text-anchor=\"start\" x=\"24.5\" y=\"-342.5\" font-family=\"Courier,monospace\" font-size=\"10.00\"\u003edocument_encoder\u003c/text\u003e\n\u003cpolygon fill=\"none\" stroke=\"black\" points=\"125.5,-335.5 125.5,-354.5 141.5,-354.5 141.5,-335.5 125.5,-335.5\"/\u003e\n\u003cpolygon fill=\"#add8e6\" stroke=\"transparent\" points=\"129.5,-339.5 129.5,-350.5 137.5,-350.5 137.5,-339.5 129.5,-339.5\"/\u003e\n\u003cpolygon fill=\"none\" stroke=\"black\" points=\"129.5,-339.5 129.5,-350.5 137.5,-350.5 137.5,-339.5 129.5,-339.5\"/\u003e\n\u003c/g\u003e\n\u003c!-- 0\u0026#45;\u0026#45;1 --\u003e\n\u003cg id=\"edge3\" class=\"edge\"\u003e\n\u003ctitle\u003e0:c\u0026#45;\u0026#45;1:c\u003c/title\u003e\n\u003cpath fill=\"none\" stroke=\"#000000\" stroke-width=\"3\" stroke-opacity=\"0.188235\" d=\"M130.08,-358.16C121.93,-347.84 100.86,-321.12 84.39,-300.25\"/\u003e\n\u003c/g\u003e\n\u003c!-- 4 --\u003e\n\u003cg id=\"node5\" class=\"node\"\u003e\n\u003ctitle\u003e4\u003c/title\u003e\n\u003cpolygon fill=\"#add8e6\" stroke=\"transparent\" points=\"143.5,-280.5 143.5,-299.5 268.5,-299.5 268.5,-280.5 143.5,-280.5\"/\u003e\n\u003cpolygon fill=\"none\" stroke=\"black\" points=\"143.5,-280.5 143.5,-299.5 268.5,-299.5 268.5,-280.5 143.5,-280.5\"/\u003e\n\u003ctext text-anchor=\"start\" x=\"147.5\" y=\"-288.5\" font-family=\"Courier,monospace\" font-size=\"8.00\"\u003eConfig:\u003c/text\u003e\n\u003ctext text-anchor=\"start\" x=\"179.5\" y=\"-288.5\" font-family=\"Courier,monospace\" font-size=\"10.00\"\u003e SimpleEncoder\u003c/text\u003e\n\u003cpolygon fill=\"#eeeeee\" stroke=\"transparent\" points=\"143.5,-261.5 143.5,-280.5 244.5,-280.5 244.5,-261.5 143.5,-261.5\"/\u003e\n\u003cpolygon fill=\"none\" stroke=\"black\" points=\"143.5,-261.5 143.5,-280.5 244.5,-280.5 244.5,-261.5 143.5,-261.5\"/\u003e\n\u003ctext text-anchor=\"start\" x=\"155.5\" y=\"-268.5\" font-family=\"Courier,monospace\" font-size=\"10.00\"\u003etoken_embedder\u003c/text\u003e\n\u003cpolygon fill=\"none\" stroke=\"black\" points=\"244.5,-261.5 244.5,-280.5 268.5,-280.5 268.5,-261.5 244.5,-261.5\"/\u003e\n\u003cpolygon fill=\"#fff8dc\" stroke=\"transparent\" points=\"248.5,-265.5 248.5,-276.5 264.5,-276.5 264.5,-265.5 248.5,-265.5\"/\u003e\n\u003cpolygon fill=\"none\" stroke=\"black\" points=\"248.5,-265.5 248.5,-276.5 264.5,-276.5 264.5,-265.5 248.5,-265.5\"/\u003e\n\u003cpolygon fill=\"#eeeeee\" stroke=\"transparent\" points=\"143.5,-242.5 143.5,-261.5 244.5,-261.5 244.5,-242.5 143.5,-242.5\"/\u003e\n\u003cpolygon fill=\"none\" stroke=\"black\" points=\"143.5,-242.5 143.5,-261.5 244.5,-261.5 244.5,-242.5 143.5,-242.5\"/\u003e\n\u003ctext text-anchor=\"start\" x=\"149.5\" y=\"-249.5\" font-family=\"Courier,monospace\" font-size=\"10.00\"\u003eoutput_features\u003c/text\u003e\n\u003cpolygon fill=\"none\" stroke=\"black\" points=\"244.5,-242.5 244.5,-261.5 268.5,-261.5 268.5,-242.5 244.5,-242.5\"/\u003e\n\u003ctext text-anchor=\"start\" x=\"248.5\" y=\"-249.5\" font-family=\"Courier,monospace\" font-size=\"10.00\"\u003e12\u003c/text\u003e\n\u003c/g\u003e\n\u003c!-- 0\u0026#45;\u0026#45;4 --\u003e\n\u003cg id=\"edge5\" class=\"edge\"\u003e\n\u003ctitle\u003e0:c\u0026#45;\u0026#45;4:c\u003c/title\u003e\n\u003cpath fill=\"none\" stroke=\"#000000\" stroke-width=\"3\" stroke-opacity=\"0.188235\" d=\"M137.79,-339.27C145.54,-331.63 162.47,-314.94 177.46,-300.15\"/\u003e\n\u003c/g\u003e\n\u003c!-- 4\u0026#45;\u0026#45;2 --\u003e\n\u003cg id=\"edge4\" class=\"edge\"\u003e\n\u003ctitle\u003e4:c\u0026#45;\u0026#45;2:c\u003c/title\u003e\n\u003cpath fill=\"none\" stroke=\"#000000\" stroke-width=\"3\" stroke-opacity=\"0.188235\" d=\"M253.41,-265.22C246.19,-255.26 227.65,-229.63 211.62,-207.47\"/\u003e\n\u003c/g\u003e\n\u003c/g\u003e\n\u003c/svg\u003e\n",
            "text/plain": [
              "\u003cgraphviz.dot.Graph at 0x7fdac0dd8610\u003e"
            ]
          },
          "execution_count": 3,
          "metadata": {},
          "output_type": "execute_result"
        }
      ],
      "source": [
        "graphviz.render(base_config())"
      ]
    },
    {
      "cell_type": "markdown",
      "metadata": {
        "id": "yzzXmP1ceK68"
      },
      "source": [
        "The `TokenEmbedder`'s `dtype` parameter has not been configured, so it is just\n",
        "using the default defined in the class. If we set it, it will appear in this\n",
        "visualization,"
      ]
    },
    {
      "cell_type": "code",
      "execution_count": 4,
      "metadata": {
        "colab": {
          "height": 581
        },
        "executionInfo": {
          "elapsed": 60,
          "status": "ok",
          "timestamp": 1641844808003,
          "user": {
            "displayName": "",
            "photoUrl": "",
            "userId": ""
          },
          "user_tz": 480
        },
        "id": "cakIrrfpeJte",
        "outputId": "2847d7fa-7436-4a70-ede6-e688adeb71dc"
      },
      "outputs": [
        {
          "data": {
            "image/svg+xml": "\u003c?xml version=\"1.0\" encoding=\"UTF-8\" standalone=\"no\"?\u003e\n\u003c!DOCTYPE svg PUBLIC \"-//W3C//DTD SVG 1.1//EN\"\n \"http://www.w3.org/Graphics/SVG/1.1/DTD/svg11.dtd\"\u003e\n\u003c!-- Generated by graphviz version 2.44.1 (20201121.0304)\n --\u003e\n\u003c!-- Pages: 1 --\u003e\n\u003csvg width=\"311pt\" height=\"420pt\"\n viewBox=\"0.00 0.00 311.00 420.00\" xmlns=\"http://www.w3.org/2000/svg\" xmlns:xlink=\"http://www.w3.org/1999/xlink\"\u003e\n\u003cg id=\"graph0\" class=\"graph\" transform=\"scale(1 1) rotate(0) translate(4 416)\"\u003e\n\u003cpolygon fill=\"white\" stroke=\"transparent\" points=\"-4,4 -4,-416 307,-416 307,4 -4,4\"/\u003e\n\u003c!-- 3 --\u003e\n\u003cg id=\"node1\" class=\"node\"\u003e\n\u003ctitle\u003e3\u003c/title\u003e\n\u003cpolygon fill=\"#ffa07a\" stroke=\"transparent\" points=\"160.5,-75.5 160.5,-94.5 303.5,-94.5 303.5,-75.5 160.5,-75.5\"/\u003e\n\u003cpolygon fill=\"none\" stroke=\"black\" points=\"160.5,-75.5 160.5,-94.5 303.5,-94.5 303.5,-75.5 160.5,-75.5\"/\u003e\n\u003ctext text-anchor=\"start\" x=\"164.5\" y=\"-83.5\" font-family=\"Courier,monospace\" font-size=\"8.00\"\u003eConfig:\u003c/text\u003e\n\u003ctext text-anchor=\"start\" x=\"196.5\" y=\"-83.5\" font-family=\"Courier,monospace\" font-size=\"10.00\"\u003e variance_scaling\u003c/text\u003e\n\u003cpolygon fill=\"#eeeeee\" stroke=\"transparent\" points=\"160.5,-56.5 160.5,-75.5 243.5,-75.5 243.5,-56.5 160.5,-56.5\"/\u003e\n\u003cpolygon fill=\"none\" stroke=\"black\" points=\"160.5,-56.5 160.5,-75.5 243.5,-75.5 243.5,-56.5 160.5,-56.5\"/\u003e\n\u003ctext text-anchor=\"start\" x=\"208.5\" y=\"-63.5\" font-family=\"Courier,monospace\" font-size=\"10.00\"\u003escale\u003c/text\u003e\n\u003cpolygon fill=\"none\" stroke=\"black\" points=\"243.5,-56.5 243.5,-75.5 303.5,-75.5 303.5,-56.5 243.5,-56.5\"/\u003e\n\u003ctext text-anchor=\"start\" x=\"247.5\" y=\"-63.5\" font-family=\"Courier,monospace\" font-size=\"10.00\"\u003e1.0\u003c/text\u003e\n\u003cpolygon fill=\"#eeeeee\" stroke=\"transparent\" points=\"160.5,-37.5 160.5,-56.5 243.5,-56.5 243.5,-37.5 160.5,-37.5\"/\u003e\n\u003cpolygon fill=\"none\" stroke=\"black\" points=\"160.5,-37.5 160.5,-56.5 243.5,-56.5 243.5,-37.5 160.5,-37.5\"/\u003e\n\u003ctext text-anchor=\"start\" x=\"214.5\" y=\"-44.5\" font-family=\"Courier,monospace\" font-size=\"10.00\"\u003emode\u003c/text\u003e\n\u003cpolygon fill=\"none\" stroke=\"black\" points=\"243.5,-37.5 243.5,-56.5 303.5,-56.5 303.5,-37.5 243.5,-37.5\"/\u003e\n\u003ctext text-anchor=\"start\" x=\"247.5\" y=\"-44.5\" font-family=\"Courier,monospace\" font-size=\"10.00\"\u003e\u0026#39;fan_in\u0026#39;\u003c/text\u003e\n\u003cpolygon fill=\"#eeeeee\" stroke=\"transparent\" points=\"160.5,-18.5 160.5,-37.5 243.5,-37.5 243.5,-18.5 160.5,-18.5\"/\u003e\n\u003cpolygon fill=\"none\" stroke=\"black\" points=\"160.5,-18.5 160.5,-37.5 243.5,-37.5 243.5,-18.5 160.5,-18.5\"/\u003e\n\u003ctext text-anchor=\"start\" x=\"166.5\" y=\"-25.5\" font-family=\"Courier,monospace\" font-size=\"10.00\"\u003edistribution\u003c/text\u003e\n\u003cpolygon fill=\"none\" stroke=\"black\" points=\"243.5,-18.5 243.5,-37.5 303.5,-37.5 303.5,-18.5 243.5,-18.5\"/\u003e\n\u003ctext text-anchor=\"start\" x=\"247.5\" y=\"-25.5\" font-family=\"Courier,monospace\" font-size=\"10.00\"\u003e\u0026#39;normal\u0026#39;\u003c/text\u003e\n\u003cpolygon fill=\"#eeeeee\" stroke=\"transparent\" points=\"160.5,0.5 160.5,-18.5 243.5,-18.5 243.5,0.5 160.5,0.5\"/\u003e\n\u003cpolygon fill=\"none\" stroke=\"black\" points=\"160.5,0.5 160.5,-18.5 243.5,-18.5 243.5,0.5 160.5,0.5\"/\u003e\n\u003ctext text-anchor=\"start\" x=\"190.5\" y=\"-6.5\" font-family=\"Courier,monospace\" font-size=\"10.00\"\u003eout_axis\u003c/text\u003e\n\u003cpolygon fill=\"none\" stroke=\"black\" points=\"243.5,0.5 243.5,-18.5 303.5,-18.5 303.5,0.5 243.5,0.5\"/\u003e\n\u003ctext text-anchor=\"start\" x=\"247.5\" y=\"-6.5\" font-family=\"Courier,monospace\" font-size=\"10.00\"\u003e0\u003c/text\u003e\n\u003c/g\u003e\n\u003c!-- 2 --\u003e\n\u003cg id=\"node2\" class=\"node\"\u003e\n\u003ctitle\u003e2\u003c/title\u003e\n\u003cpolygon fill=\"#fff8dc\" stroke=\"transparent\" points=\"97.5,-206.5 97.5,-225.5 271.5,-225.5 271.5,-206.5 97.5,-206.5\"/\u003e\n\u003cpolygon fill=\"none\" stroke=\"black\" points=\"97.5,-206.5 97.5,-225.5 271.5,-225.5 271.5,-206.5 97.5,-206.5\"/\u003e\n\u003ctext text-anchor=\"start\" x=\"126\" y=\"-214.5\" font-family=\"Courier,monospace\" font-size=\"8.00\"\u003eConfig:\u003c/text\u003e\n\u003ctext text-anchor=\"start\" x=\"158\" y=\"-214.5\" font-family=\"Courier,monospace\" font-size=\"10.00\"\u003e TokenEmbedder\u003c/text\u003e\n\u003cpolygon fill=\"#eeeeee\" stroke=\"transparent\" points=\"97.5,-187.5 97.5,-206.5 190.5,-206.5 190.5,-187.5 97.5,-187.5\"/\u003e\n\u003cpolygon fill=\"none\" stroke=\"black\" points=\"97.5,-187.5 97.5,-206.5 190.5,-206.5 190.5,-187.5 97.5,-187.5\"/\u003e\n\u003ctext text-anchor=\"start\" x=\"101.5\" y=\"-194.5\" font-family=\"Courier,monospace\" font-size=\"10.00\"\u003enum_embeddings\u003c/text\u003e\n\u003cpolygon fill=\"none\" stroke=\"black\" points=\"190.5,-187.5 190.5,-206.5 271.5,-206.5 271.5,-187.5 190.5,-187.5\"/\u003e\n\u003ctext text-anchor=\"start\" x=\"194.5\" y=\"-194.5\" font-family=\"Courier,monospace\" font-size=\"10.00\"\u003e12\u003c/text\u003e\n\u003cpolygon fill=\"#eeeeee\" stroke=\"transparent\" points=\"97.5,-168.5 97.5,-187.5 190.5,-187.5 190.5,-168.5 97.5,-168.5\"/\u003e\n\u003cpolygon fill=\"none\" stroke=\"black\" points=\"97.5,-168.5 97.5,-187.5 190.5,-187.5 190.5,-168.5 97.5,-168.5\"/\u003e\n\u003ctext text-anchor=\"start\" x=\"137.5\" y=\"-175.5\" font-family=\"Courier,monospace\" font-size=\"10.00\"\u003efeatures\u003c/text\u003e\n\u003cpolygon fill=\"none\" stroke=\"black\" points=\"190.5,-168.5 190.5,-187.5 271.5,-187.5 271.5,-168.5 190.5,-168.5\"/\u003e\n\u003ctext text-anchor=\"start\" x=\"194.5\" y=\"-175.5\" font-family=\"Courier,monospace\" font-size=\"10.00\"\u003e3\u003c/text\u003e\n\u003cpolygon fill=\"#eeeeee\" stroke=\"transparent\" points=\"97.5,-149.5 97.5,-168.5 190.5,-168.5 190.5,-149.5 97.5,-149.5\"/\u003e\n\u003cpolygon fill=\"none\" stroke=\"black\" points=\"97.5,-149.5 97.5,-168.5 190.5,-168.5 190.5,-149.5 97.5,-149.5\"/\u003e\n\u003ctext text-anchor=\"start\" x=\"101.5\" y=\"-156.5\" font-family=\"Courier,monospace\" font-size=\"10.00\"\u003eembedding_init\u003c/text\u003e\n\u003cpolygon fill=\"none\" stroke=\"black\" points=\"190.5,-149.5 190.5,-168.5 271.5,-168.5 271.5,-149.5 190.5,-149.5\"/\u003e\n\u003cpolygon fill=\"#ffa07a\" stroke=\"transparent\" points=\"194.5,-153.5 194.5,-164.5 267.5,-164.5 267.5,-153.5 194.5,-153.5\"/\u003e\n\u003cpolygon fill=\"none\" stroke=\"black\" points=\"194.5,-153.5 194.5,-164.5 267.5,-164.5 267.5,-153.5 194.5,-153.5\"/\u003e\n\u003cpolygon fill=\"#eeeeee\" stroke=\"transparent\" points=\"97.5,-130.5 97.5,-149.5 190.5,-149.5 190.5,-130.5 97.5,-130.5\"/\u003e\n\u003cpolygon fill=\"none\" stroke=\"black\" points=\"97.5,-130.5 97.5,-149.5 190.5,-149.5 190.5,-130.5 97.5,-130.5\"/\u003e\n\u003ctext text-anchor=\"start\" x=\"155.5\" y=\"-137.5\" font-family=\"Courier,monospace\" font-size=\"10.00\"\u003edtype\u003c/text\u003e\n\u003cpolygon fill=\"none\" stroke=\"black\" points=\"190.5,-130.5 190.5,-149.5 271.5,-149.5 271.5,-130.5 190.5,-130.5\"/\u003e\n\u003ctext text-anchor=\"start\" x=\"194.5\" y=\"-137.5\" font-family=\"Courier,monospace\" font-size=\"10.00\"\u003ejnp.bfloat16\u003c/text\u003e\n\u003c/g\u003e\n\u003c!-- 2\u0026#45;\u0026#45;3 --\u003e\n\u003cg id=\"edge1\" class=\"edge\"\u003e\n\u003ctitle\u003e2:c\u0026#45;\u0026#45;3:c\u003c/title\u003e\n\u003cpath fill=\"none\" stroke=\"#000000\" stroke-width=\"3\" stroke-opacity=\"0.188235\" d=\"M231.5,-153.36C231.5,-143.64 231.5,-118.41 231.5,-95.14\"/\u003e\n\u003c/g\u003e\n\u003c!-- 1 --\u003e\n\u003cg id=\"node3\" class=\"node\"\u003e\n\u003ctitle\u003e1\u003c/title\u003e\n\u003cpolygon fill=\"#90ee90\" stroke=\"transparent\" points=\"0.5,-299.5 0.5,-318.5 125.5,-318.5 125.5,-299.5 0.5,-299.5\"/\u003e\n\u003cpolygon fill=\"none\" stroke=\"black\" points=\"0.5,-299.5 0.5,-318.5 125.5,-318.5 125.5,-299.5 0.5,-299.5\"/\u003e\n\u003ctext text-anchor=\"start\" x=\"4.5\" y=\"-307.5\" font-family=\"Courier,monospace\" font-size=\"8.00\"\u003eConfig:\u003c/text\u003e\n\u003ctext text-anchor=\"start\" x=\"36.5\" y=\"-307.5\" font-family=\"Courier,monospace\" font-size=\"10.00\"\u003e SimpleEncoder\u003c/text\u003e\n\u003cpolygon fill=\"#eeeeee\" stroke=\"transparent\" points=\"0.5,-280.5 0.5,-299.5 101.5,-299.5 101.5,-280.5 0.5,-280.5\"/\u003e\n\u003cpolygon fill=\"none\" stroke=\"black\" points=\"0.5,-280.5 0.5,-299.5 101.5,-299.5 101.5,-280.5 0.5,-280.5\"/\u003e\n\u003ctext text-anchor=\"start\" x=\"12.5\" y=\"-287.5\" font-family=\"Courier,monospace\" font-size=\"10.00\"\u003etoken_embedder\u003c/text\u003e\n\u003cpolygon fill=\"none\" stroke=\"black\" points=\"101.5,-280.5 101.5,-299.5 125.5,-299.5 125.5,-280.5 101.5,-280.5\"/\u003e\n\u003cpolygon fill=\"#fff8dc\" stroke=\"transparent\" points=\"105.5,-284.5 105.5,-295.5 121.5,-295.5 121.5,-284.5 105.5,-284.5\"/\u003e\n\u003cpolygon fill=\"none\" stroke=\"black\" points=\"105.5,-284.5 105.5,-295.5 121.5,-295.5 121.5,-284.5 105.5,-284.5\"/\u003e\n\u003cpolygon fill=\"#eeeeee\" stroke=\"transparent\" points=\"0.5,-261.5 0.5,-280.5 101.5,-280.5 101.5,-261.5 0.5,-261.5\"/\u003e\n\u003cpolygon fill=\"none\" stroke=\"black\" points=\"0.5,-261.5 0.5,-280.5 101.5,-280.5 101.5,-261.5 0.5,-261.5\"/\u003e\n\u003ctext text-anchor=\"start\" x=\"6.5\" y=\"-268.5\" font-family=\"Courier,monospace\" font-size=\"10.00\"\u003eoutput_features\u003c/text\u003e\n\u003cpolygon fill=\"none\" stroke=\"black\" points=\"101.5,-261.5 101.5,-280.5 125.5,-280.5 125.5,-261.5 101.5,-261.5\"/\u003e\n\u003ctext text-anchor=\"start\" x=\"105.5\" y=\"-268.5\" font-family=\"Courier,monospace\" font-size=\"10.00\"\u003e12\u003c/text\u003e\n\u003c/g\u003e\n\u003c!-- 1\u0026#45;\u0026#45;2 --\u003e\n\u003cg id=\"edge2\" class=\"edge\"\u003e\n\u003ctitle\u003e1:c\u0026#45;\u0026#45;2:c\u003c/title\u003e\n\u003cpath fill=\"none\" stroke=\"#000000\" stroke-width=\"3\" stroke-opacity=\"0.188235\" d=\"M116.2,-284.36C122.53,-274.64 138.96,-249.41 154.12,-226.14\"/\u003e\n\u003c/g\u003e\n\u003c!-- 0 --\u003e\n\u003cg id=\"node4\" class=\"node\"\u003e\n\u003ctitle\u003e0\u003c/title\u003e\n\u003cpolygon fill=\"#ffc0cb\" stroke=\"transparent\" points=\"20.5,-392.5 20.5,-411.5 141.5,-411.5 141.5,-392.5 20.5,-392.5\"/\u003e\n\u003cpolygon fill=\"none\" stroke=\"black\" points=\"20.5,-392.5 20.5,-411.5 141.5,-411.5 141.5,-392.5 20.5,-392.5\"/\u003e\n\u003ctext text-anchor=\"start\" x=\"28.5\" y=\"-400.5\" font-family=\"Courier,monospace\" font-size=\"8.00\"\u003eConfig:\u003c/text\u003e\n\u003ctext text-anchor=\"start\" x=\"60.5\" y=\"-400.5\" font-family=\"Courier,monospace\" font-size=\"10.00\"\u003e DualEncoder\u003c/text\u003e\n\u003cpolygon fill=\"#eeeeee\" stroke=\"transparent\" points=\"20.5,-373.5 20.5,-392.5 125.5,-392.5 125.5,-373.5 20.5,-373.5\"/\u003e\n\u003cpolygon fill=\"none\" stroke=\"black\" points=\"20.5,-373.5 20.5,-392.5 125.5,-392.5 125.5,-373.5 20.5,-373.5\"/\u003e\n\u003ctext text-anchor=\"start\" x=\"42.5\" y=\"-380.5\" font-family=\"Courier,monospace\" font-size=\"10.00\"\u003equery_encoder\u003c/text\u003e\n\u003cpolygon fill=\"none\" stroke=\"black\" points=\"125.5,-373.5 125.5,-392.5 141.5,-392.5 141.5,-373.5 125.5,-373.5\"/\u003e\n\u003cpolygon fill=\"#90ee90\" stroke=\"transparent\" points=\"129.5,-377.5 129.5,-388.5 137.5,-388.5 137.5,-377.5 129.5,-377.5\"/\u003e\n\u003cpolygon fill=\"none\" stroke=\"black\" points=\"129.5,-377.5 129.5,-388.5 137.5,-388.5 137.5,-377.5 129.5,-377.5\"/\u003e\n\u003cpolygon fill=\"#eeeeee\" stroke=\"transparent\" points=\"20.5,-354.5 20.5,-373.5 125.5,-373.5 125.5,-354.5 20.5,-354.5\"/\u003e\n\u003cpolygon fill=\"none\" stroke=\"black\" points=\"20.5,-354.5 20.5,-373.5 125.5,-373.5 125.5,-354.5 20.5,-354.5\"/\u003e\n\u003ctext text-anchor=\"start\" x=\"24.5\" y=\"-361.5\" font-family=\"Courier,monospace\" font-size=\"10.00\"\u003edocument_encoder\u003c/text\u003e\n\u003cpolygon fill=\"none\" stroke=\"black\" points=\"125.5,-354.5 125.5,-373.5 141.5,-373.5 141.5,-354.5 125.5,-354.5\"/\u003e\n\u003cpolygon fill=\"#add8e6\" stroke=\"transparent\" points=\"129.5,-358.5 129.5,-369.5 137.5,-369.5 137.5,-358.5 129.5,-358.5\"/\u003e\n\u003cpolygon fill=\"none\" stroke=\"black\" points=\"129.5,-358.5 129.5,-369.5 137.5,-369.5 137.5,-358.5 129.5,-358.5\"/\u003e\n\u003c/g\u003e\n\u003c!-- 0\u0026#45;\u0026#45;1 --\u003e\n\u003cg id=\"edge3\" class=\"edge\"\u003e\n\u003ctitle\u003e0:c\u0026#45;\u0026#45;1:c\u003c/title\u003e\n\u003cpath fill=\"none\" stroke=\"#000000\" stroke-width=\"3\" stroke-opacity=\"0.188235\" d=\"M130.08,-377.16C121.93,-366.84 100.86,-340.12 84.39,-319.25\"/\u003e\n\u003c/g\u003e\n\u003c!-- 4 --\u003e\n\u003cg id=\"node5\" class=\"node\"\u003e\n\u003ctitle\u003e4\u003c/title\u003e\n\u003cpolygon fill=\"#add8e6\" stroke=\"transparent\" points=\"143.5,-299.5 143.5,-318.5 268.5,-318.5 268.5,-299.5 143.5,-299.5\"/\u003e\n\u003cpolygon fill=\"none\" stroke=\"black\" points=\"143.5,-299.5 143.5,-318.5 268.5,-318.5 268.5,-299.5 143.5,-299.5\"/\u003e\n\u003ctext text-anchor=\"start\" x=\"147.5\" y=\"-307.5\" font-family=\"Courier,monospace\" font-size=\"8.00\"\u003eConfig:\u003c/text\u003e\n\u003ctext text-anchor=\"start\" x=\"179.5\" y=\"-307.5\" font-family=\"Courier,monospace\" font-size=\"10.00\"\u003e SimpleEncoder\u003c/text\u003e\n\u003cpolygon fill=\"#eeeeee\" stroke=\"transparent\" points=\"143.5,-280.5 143.5,-299.5 244.5,-299.5 244.5,-280.5 143.5,-280.5\"/\u003e\n\u003cpolygon fill=\"none\" stroke=\"black\" points=\"143.5,-280.5 143.5,-299.5 244.5,-299.5 244.5,-280.5 143.5,-280.5\"/\u003e\n\u003ctext text-anchor=\"start\" x=\"155.5\" y=\"-287.5\" font-family=\"Courier,monospace\" font-size=\"10.00\"\u003etoken_embedder\u003c/text\u003e\n\u003cpolygon fill=\"none\" stroke=\"black\" points=\"244.5,-280.5 244.5,-299.5 268.5,-299.5 268.5,-280.5 244.5,-280.5\"/\u003e\n\u003cpolygon fill=\"#fff8dc\" stroke=\"transparent\" points=\"248.5,-284.5 248.5,-295.5 264.5,-295.5 264.5,-284.5 248.5,-284.5\"/\u003e\n\u003cpolygon fill=\"none\" stroke=\"black\" points=\"248.5,-284.5 248.5,-295.5 264.5,-295.5 264.5,-284.5 248.5,-284.5\"/\u003e\n\u003cpolygon fill=\"#eeeeee\" stroke=\"transparent\" points=\"143.5,-261.5 143.5,-280.5 244.5,-280.5 244.5,-261.5 143.5,-261.5\"/\u003e\n\u003cpolygon fill=\"none\" stroke=\"black\" points=\"143.5,-261.5 143.5,-280.5 244.5,-280.5 244.5,-261.5 143.5,-261.5\"/\u003e\n\u003ctext text-anchor=\"start\" x=\"149.5\" y=\"-268.5\" font-family=\"Courier,monospace\" font-size=\"10.00\"\u003eoutput_features\u003c/text\u003e\n\u003cpolygon fill=\"none\" stroke=\"black\" points=\"244.5,-261.5 244.5,-280.5 268.5,-280.5 268.5,-261.5 244.5,-261.5\"/\u003e\n\u003ctext text-anchor=\"start\" x=\"248.5\" y=\"-268.5\" font-family=\"Courier,monospace\" font-size=\"10.00\"\u003e12\u003c/text\u003e\n\u003c/g\u003e\n\u003c!-- 0\u0026#45;\u0026#45;4 --\u003e\n\u003cg id=\"edge5\" class=\"edge\"\u003e\n\u003ctitle\u003e0:c\u0026#45;\u0026#45;4:c\u003c/title\u003e\n\u003cpath fill=\"none\" stroke=\"#000000\" stroke-width=\"3\" stroke-opacity=\"0.188235\" d=\"M137.79,-358.27C145.54,-350.63 162.47,-333.94 177.46,-319.15\"/\u003e\n\u003c/g\u003e\n\u003c!-- 4\u0026#45;\u0026#45;2 --\u003e\n\u003cg id=\"edge4\" class=\"edge\"\u003e\n\u003ctitle\u003e4:c\u0026#45;\u0026#45;2:c\u003c/title\u003e\n\u003cpath fill=\"none\" stroke=\"#000000\" stroke-width=\"3\" stroke-opacity=\"0.188235\" d=\"M253.77,-284.36C247.34,-274.64 230.68,-249.41 215.31,-226.14\"/\u003e\n\u003c/g\u003e\n\u003c/g\u003e\n\u003c/svg\u003e\n",
            "text/plain": [
              "\u003cgraphviz.dot.Graph at 0x7fdac0b7a3d0\u003e"
            ]
          },
          "execution_count": 4,
          "metadata": {},
          "output_type": "execute_result"
        }
      ],
      "source": [
        "cfg = base_config()\n",
        "cfg.query_encoder.token_embedder.dtype = jnp.bfloat16\n",
        "graphviz.render(cfg)"
      ]
    },
    {
      "cell_type": "markdown",
      "metadata": {
        "id": "fHF3nHnUeSV_"
      },
      "source": [
        "You'll notice that this is nicely rendered as `jnp.bfloat16` instead of its\n",
        "`repr()` string, `\u003cclass 'jax._src.numpy.lax_numpy.bfloat16'\u003e`; this is because\n",
        "we called `fiddle.extensions.jax.enable()` in the beginning of this colab.\n",
        "However, these JAX extensions are not necessary for graphviz to work."
      ]
    },
    {
      "cell_type": "markdown",
      "metadata": {
        "id": "u5tHfd1ay6Xr"
      },
      "source": [
        "### Trimming large graphs\n",
        "\n",
        "The `visualize` module provides convenient ways to trim large graphs. For\n",
        "example, let's say that you wanted to print the configuration without the\n",
        "`document_encoder` details,"
      ]
    },
    {
      "cell_type": "code",
      "execution_count": 5,
      "metadata": {
        "colab": {
          "height": 581
        },
        "executionInfo": {
          "elapsed": 60,
          "status": "ok",
          "timestamp": 1641844808285,
          "user": {
            "displayName": "",
            "photoUrl": "",
            "userId": ""
          },
          "user_tz": 480
        },
        "id": "Uuv4VdhnHtnh",
        "outputId": "b348cfbf-7d71-441d-a2e8-731309e3f374"
      },
      "outputs": [
        {
          "data": {
            "image/svg+xml": "\u003c?xml version=\"1.0\" encoding=\"UTF-8\" standalone=\"no\"?\u003e\n\u003c!DOCTYPE svg PUBLIC \"-//W3C//DTD SVG 1.1//EN\"\n \"http://www.w3.org/Graphics/SVG/1.1/DTD/svg11.dtd\"\u003e\n\u003c!-- Generated by graphviz version 2.44.1 (20201121.0304)\n --\u003e\n\u003c!-- Pages: 1 --\u003e\n\u003csvg width=\"324pt\" height=\"420pt\"\n viewBox=\"0.00 0.00 323.50 420.00\" xmlns=\"http://www.w3.org/2000/svg\" xmlns:xlink=\"http://www.w3.org/1999/xlink\"\u003e\n\u003cg id=\"graph0\" class=\"graph\" transform=\"scale(1 1) rotate(0) translate(4 416)\"\u003e\n\u003cpolygon fill=\"white\" stroke=\"transparent\" points=\"-4,4 -4,-416 319.5,-416 319.5,4 -4,4\"/\u003e\n\u003c!-- 3 --\u003e\n\u003cg id=\"node1\" class=\"node\"\u003e\n\u003ctitle\u003e3\u003c/title\u003e\n\u003cpolygon fill=\"#ffa07a\" stroke=\"transparent\" points=\"173,-75.5 173,-94.5 316,-94.5 316,-75.5 173,-75.5\"/\u003e\n\u003cpolygon fill=\"none\" stroke=\"black\" points=\"173,-75.5 173,-94.5 316,-94.5 316,-75.5 173,-75.5\"/\u003e\n\u003ctext text-anchor=\"start\" x=\"177\" y=\"-83.5\" font-family=\"Courier,monospace\" font-size=\"8.00\"\u003eConfig:\u003c/text\u003e\n\u003ctext text-anchor=\"start\" x=\"209\" y=\"-83.5\" font-family=\"Courier,monospace\" font-size=\"10.00\"\u003e variance_scaling\u003c/text\u003e\n\u003cpolygon fill=\"#eeeeee\" stroke=\"transparent\" points=\"173,-56.5 173,-75.5 256,-75.5 256,-56.5 173,-56.5\"/\u003e\n\u003cpolygon fill=\"none\" stroke=\"black\" points=\"173,-56.5 173,-75.5 256,-75.5 256,-56.5 173,-56.5\"/\u003e\n\u003ctext text-anchor=\"start\" x=\"221\" y=\"-63.5\" font-family=\"Courier,monospace\" font-size=\"10.00\"\u003escale\u003c/text\u003e\n\u003cpolygon fill=\"none\" stroke=\"black\" points=\"256,-56.5 256,-75.5 316,-75.5 316,-56.5 256,-56.5\"/\u003e\n\u003ctext text-anchor=\"start\" x=\"260\" y=\"-63.5\" font-family=\"Courier,monospace\" font-size=\"10.00\"\u003e1.0\u003c/text\u003e\n\u003cpolygon fill=\"#eeeeee\" stroke=\"transparent\" points=\"173,-37.5 173,-56.5 256,-56.5 256,-37.5 173,-37.5\"/\u003e\n\u003cpolygon fill=\"none\" stroke=\"black\" points=\"173,-37.5 173,-56.5 256,-56.5 256,-37.5 173,-37.5\"/\u003e\n\u003ctext text-anchor=\"start\" x=\"227\" y=\"-44.5\" font-family=\"Courier,monospace\" font-size=\"10.00\"\u003emode\u003c/text\u003e\n\u003cpolygon fill=\"none\" stroke=\"black\" points=\"256,-37.5 256,-56.5 316,-56.5 316,-37.5 256,-37.5\"/\u003e\n\u003ctext text-anchor=\"start\" x=\"260\" y=\"-44.5\" font-family=\"Courier,monospace\" font-size=\"10.00\"\u003e\u0026#39;fan_in\u0026#39;\u003c/text\u003e\n\u003cpolygon fill=\"#eeeeee\" stroke=\"transparent\" points=\"173,-18.5 173,-37.5 256,-37.5 256,-18.5 173,-18.5\"/\u003e\n\u003cpolygon fill=\"none\" stroke=\"black\" points=\"173,-18.5 173,-37.5 256,-37.5 256,-18.5 173,-18.5\"/\u003e\n\u003ctext text-anchor=\"start\" x=\"179\" y=\"-25.5\" font-family=\"Courier,monospace\" font-size=\"10.00\"\u003edistribution\u003c/text\u003e\n\u003cpolygon fill=\"none\" stroke=\"black\" points=\"256,-18.5 256,-37.5 316,-37.5 316,-18.5 256,-18.5\"/\u003e\n\u003ctext text-anchor=\"start\" x=\"260\" y=\"-25.5\" font-family=\"Courier,monospace\" font-size=\"10.00\"\u003e\u0026#39;normal\u0026#39;\u003c/text\u003e\n\u003cpolygon fill=\"#eeeeee\" stroke=\"transparent\" points=\"173,0.5 173,-18.5 256,-18.5 256,0.5 173,0.5\"/\u003e\n\u003cpolygon fill=\"none\" stroke=\"black\" points=\"173,0.5 173,-18.5 256,-18.5 256,0.5 173,0.5\"/\u003e\n\u003ctext text-anchor=\"start\" x=\"203\" y=\"-6.5\" font-family=\"Courier,monospace\" font-size=\"10.00\"\u003eout_axis\u003c/text\u003e\n\u003cpolygon fill=\"none\" stroke=\"black\" points=\"256,0.5 256,-18.5 316,-18.5 316,0.5 256,0.5\"/\u003e\n\u003ctext text-anchor=\"start\" x=\"260\" y=\"-6.5\" font-family=\"Courier,monospace\" font-size=\"10.00\"\u003e0\u003c/text\u003e\n\u003c/g\u003e\n\u003c!-- 2 --\u003e\n\u003cg id=\"node2\" class=\"node\"\u003e\n\u003ctitle\u003e2\u003c/title\u003e\n\u003cpolygon fill=\"#fff8dc\" stroke=\"transparent\" points=\"110,-206.5 110,-225.5 284,-225.5 284,-206.5 110,-206.5\"/\u003e\n\u003cpolygon fill=\"none\" stroke=\"black\" points=\"110,-206.5 110,-225.5 284,-225.5 284,-206.5 110,-206.5\"/\u003e\n\u003ctext text-anchor=\"start\" x=\"138.5\" y=\"-214.5\" font-family=\"Courier,monospace\" font-size=\"8.00\"\u003eConfig:\u003c/text\u003e\n\u003ctext text-anchor=\"start\" x=\"170.5\" y=\"-214.5\" font-family=\"Courier,monospace\" font-size=\"10.00\"\u003e TokenEmbedder\u003c/text\u003e\n\u003cpolygon fill=\"#eeeeee\" stroke=\"transparent\" points=\"110,-187.5 110,-206.5 203,-206.5 203,-187.5 110,-187.5\"/\u003e\n\u003cpolygon fill=\"none\" stroke=\"black\" points=\"110,-187.5 110,-206.5 203,-206.5 203,-187.5 110,-187.5\"/\u003e\n\u003ctext text-anchor=\"start\" x=\"114\" y=\"-194.5\" font-family=\"Courier,monospace\" font-size=\"10.00\"\u003enum_embeddings\u003c/text\u003e\n\u003cpolygon fill=\"none\" stroke=\"black\" points=\"203,-187.5 203,-206.5 284,-206.5 284,-187.5 203,-187.5\"/\u003e\n\u003ctext text-anchor=\"start\" x=\"207\" y=\"-194.5\" font-family=\"Courier,monospace\" font-size=\"10.00\"\u003e12\u003c/text\u003e\n\u003cpolygon fill=\"#eeeeee\" stroke=\"transparent\" points=\"110,-168.5 110,-187.5 203,-187.5 203,-168.5 110,-168.5\"/\u003e\n\u003cpolygon fill=\"none\" stroke=\"black\" points=\"110,-168.5 110,-187.5 203,-187.5 203,-168.5 110,-168.5\"/\u003e\n\u003ctext text-anchor=\"start\" x=\"150\" y=\"-175.5\" font-family=\"Courier,monospace\" font-size=\"10.00\"\u003efeatures\u003c/text\u003e\n\u003cpolygon fill=\"none\" stroke=\"black\" points=\"203,-168.5 203,-187.5 284,-187.5 284,-168.5 203,-168.5\"/\u003e\n\u003ctext text-anchor=\"start\" x=\"207\" y=\"-175.5\" font-family=\"Courier,monospace\" font-size=\"10.00\"\u003e3\u003c/text\u003e\n\u003cpolygon fill=\"#eeeeee\" stroke=\"transparent\" points=\"110,-149.5 110,-168.5 203,-168.5 203,-149.5 110,-149.5\"/\u003e\n\u003cpolygon fill=\"none\" stroke=\"black\" points=\"110,-149.5 110,-168.5 203,-168.5 203,-149.5 110,-149.5\"/\u003e\n\u003ctext text-anchor=\"start\" x=\"114\" y=\"-156.5\" font-family=\"Courier,monospace\" font-size=\"10.00\"\u003eembedding_init\u003c/text\u003e\n\u003cpolygon fill=\"none\" stroke=\"black\" points=\"203,-149.5 203,-168.5 284,-168.5 284,-149.5 203,-149.5\"/\u003e\n\u003cpolygon fill=\"#ffa07a\" stroke=\"transparent\" points=\"207,-153.5 207,-164.5 280,-164.5 280,-153.5 207,-153.5\"/\u003e\n\u003cpolygon fill=\"none\" stroke=\"black\" points=\"207,-153.5 207,-164.5 280,-164.5 280,-153.5 207,-153.5\"/\u003e\n\u003cpolygon fill=\"#eeeeee\" stroke=\"transparent\" points=\"110,-130.5 110,-149.5 203,-149.5 203,-130.5 110,-130.5\"/\u003e\n\u003cpolygon fill=\"none\" stroke=\"black\" points=\"110,-130.5 110,-149.5 203,-149.5 203,-130.5 110,-130.5\"/\u003e\n\u003ctext text-anchor=\"start\" x=\"168\" y=\"-137.5\" font-family=\"Courier,monospace\" font-size=\"10.00\"\u003edtype\u003c/text\u003e\n\u003cpolygon fill=\"none\" stroke=\"black\" points=\"203,-130.5 203,-149.5 284,-149.5 284,-130.5 203,-130.5\"/\u003e\n\u003ctext text-anchor=\"start\" x=\"207\" y=\"-137.5\" font-family=\"Courier,monospace\" font-size=\"10.00\"\u003ejnp.bfloat16\u003c/text\u003e\n\u003c/g\u003e\n\u003c!-- 2\u0026#45;\u0026#45;3 --\u003e\n\u003cg id=\"edge1\" class=\"edge\"\u003e\n\u003ctitle\u003e2:c\u0026#45;\u0026#45;3:c\u003c/title\u003e\n\u003cpath fill=\"none\" stroke=\"#000000\" stroke-width=\"3\" stroke-opacity=\"0.188235\" d=\"M244,-153.36C244,-143.64 244,-118.41 244,-95.14\"/\u003e\n\u003c/g\u003e\n\u003c!-- 1 --\u003e\n\u003cg id=\"node3\" class=\"node\"\u003e\n\u003ctitle\u003e1\u003c/title\u003e\n\u003cpolygon fill=\"#90ee90\" stroke=\"transparent\" points=\"84,-299.5 84,-318.5 209,-318.5 209,-299.5 84,-299.5\"/\u003e\n\u003cpolygon fill=\"none\" stroke=\"black\" points=\"84,-299.5 84,-318.5 209,-318.5 209,-299.5 84,-299.5\"/\u003e\n\u003ctext text-anchor=\"start\" x=\"88\" y=\"-307.5\" font-family=\"Courier,monospace\" font-size=\"8.00\"\u003eConfig:\u003c/text\u003e\n\u003ctext text-anchor=\"start\" x=\"120\" y=\"-307.5\" font-family=\"Courier,monospace\" font-size=\"10.00\"\u003e SimpleEncoder\u003c/text\u003e\n\u003cpolygon fill=\"#eeeeee\" stroke=\"transparent\" points=\"84,-280.5 84,-299.5 185,-299.5 185,-280.5 84,-280.5\"/\u003e\n\u003cpolygon fill=\"none\" stroke=\"black\" points=\"84,-280.5 84,-299.5 185,-299.5 185,-280.5 84,-280.5\"/\u003e\n\u003ctext text-anchor=\"start\" x=\"96\" y=\"-287.5\" font-family=\"Courier,monospace\" font-size=\"10.00\"\u003etoken_embedder\u003c/text\u003e\n\u003cpolygon fill=\"none\" stroke=\"black\" points=\"185,-280.5 185,-299.5 209,-299.5 209,-280.5 185,-280.5\"/\u003e\n\u003cpolygon fill=\"#fff8dc\" stroke=\"transparent\" points=\"189,-284.5 189,-295.5 205,-295.5 205,-284.5 189,-284.5\"/\u003e\n\u003cpolygon fill=\"none\" stroke=\"black\" points=\"189,-284.5 189,-295.5 205,-295.5 205,-284.5 189,-284.5\"/\u003e\n\u003cpolygon fill=\"#eeeeee\" stroke=\"transparent\" points=\"84,-261.5 84,-280.5 185,-280.5 185,-261.5 84,-261.5\"/\u003e\n\u003cpolygon fill=\"none\" stroke=\"black\" points=\"84,-261.5 84,-280.5 185,-280.5 185,-261.5 84,-261.5\"/\u003e\n\u003ctext text-anchor=\"start\" x=\"90\" y=\"-268.5\" font-family=\"Courier,monospace\" font-size=\"10.00\"\u003eoutput_features\u003c/text\u003e\n\u003cpolygon fill=\"none\" stroke=\"black\" points=\"185,-261.5 185,-280.5 209,-280.5 209,-261.5 185,-261.5\"/\u003e\n\u003ctext text-anchor=\"start\" x=\"189\" y=\"-268.5\" font-family=\"Courier,monospace\" font-size=\"10.00\"\u003e12\u003c/text\u003e\n\u003c/g\u003e\n\u003c!-- 1\u0026#45;\u0026#45;2 --\u003e\n\u003cg id=\"edge2\" class=\"edge\"\u003e\n\u003ctitle\u003e1:c\u0026#45;\u0026#45;2:c\u003c/title\u003e\n\u003cpath fill=\"none\" stroke=\"#000000\" stroke-width=\"3\" stroke-opacity=\"0.188235\" d=\"M197,-284.36C197,-274.64 197,-249.41 197,-226.14\"/\u003e\n\u003c/g\u003e\n\u003c!-- 0 --\u003e\n\u003cg id=\"node4\" class=\"node\"\u003e\n\u003ctitle\u003e0\u003c/title\u003e\n\u003cpolygon fill=\"#ffc0cb\" stroke=\"transparent\" points=\"0,-392.5 0,-411.5 186,-411.5 186,-392.5 0,-392.5\"/\u003e\n\u003cpolygon fill=\"none\" stroke=\"black\" points=\"0,-392.5 0,-411.5 186,-411.5 186,-392.5 0,-392.5\"/\u003e\n\u003ctext text-anchor=\"start\" x=\"40.5\" y=\"-400.5\" font-family=\"Courier,monospace\" font-size=\"8.00\"\u003eConfig:\u003c/text\u003e\n\u003ctext text-anchor=\"start\" x=\"72.5\" y=\"-400.5\" font-family=\"Courier,monospace\" font-size=\"10.00\"\u003e DualEncoder\u003c/text\u003e\n\u003cpolygon fill=\"#eeeeee\" stroke=\"transparent\" points=\"0,-373.5 0,-392.5 105,-392.5 105,-373.5 0,-373.5\"/\u003e\n\u003cpolygon fill=\"none\" stroke=\"black\" points=\"0,-373.5 0,-392.5 105,-392.5 105,-373.5 0,-373.5\"/\u003e\n\u003ctext text-anchor=\"start\" x=\"22\" y=\"-380.5\" font-family=\"Courier,monospace\" font-size=\"10.00\"\u003equery_encoder\u003c/text\u003e\n\u003cpolygon fill=\"none\" stroke=\"black\" points=\"105,-373.5 105,-392.5 186,-392.5 186,-373.5 105,-373.5\"/\u003e\n\u003cpolygon fill=\"#90ee90\" stroke=\"transparent\" points=\"109,-377.5 109,-388.5 182,-388.5 182,-377.5 109,-377.5\"/\u003e\n\u003cpolygon fill=\"none\" stroke=\"black\" points=\"109,-377.5 109,-388.5 182,-388.5 182,-377.5 109,-377.5\"/\u003e\n\u003cpolygon fill=\"#eeeeee\" stroke=\"transparent\" points=\"0,-354.5 0,-373.5 105,-373.5 105,-354.5 0,-354.5\"/\u003e\n\u003cpolygon fill=\"none\" stroke=\"black\" points=\"0,-354.5 0,-373.5 105,-373.5 105,-354.5 0,-354.5\"/\u003e\n\u003ctext text-anchor=\"start\" x=\"4\" y=\"-361.5\" font-family=\"Courier,monospace\" font-size=\"10.00\"\u003edocument_encoder\u003c/text\u003e\n\u003cpolygon fill=\"none\" stroke=\"black\" points=\"105,-354.5 105,-373.5 186,-373.5 186,-354.5 105,-354.5\"/\u003e\n\u003ctext text-anchor=\"start\" x=\"109\" y=\"-362.5\" font-family=\"Courier,monospace\" font-style=\"italic\" font-size=\"10.00\"\u003e(trimmed...)\u003c/text\u003e\n\u003c/g\u003e\n\u003c!-- 0\u0026#45;\u0026#45;1 --\u003e\n\u003cg id=\"edge3\" class=\"edge\"\u003e\n\u003ctitle\u003e0:c\u0026#45;\u0026#45;1:c\u003c/title\u003e\n\u003cpath fill=\"none\" stroke=\"#000000\" stroke-width=\"3\" stroke-opacity=\"0.188235\" d=\"M146,-377.16C146,-366.84 146,-340.12 146,-319.25\"/\u003e\n\u003c/g\u003e\n\u003c/g\u003e\n\u003c/svg\u003e\n",
            "text/plain": [
              "\u003cgraphviz.dot.Graph at 0x7fdac0b7a110\u003e"
            ]
          },
          "execution_count": 5,
          "metadata": {},
          "output_type": "execute_result"
        }
      ],
      "source": [
        "graphviz.render(visualize.trimmed(cfg, [cfg.document_encoder]))"
      ]
    },
    {
      "cell_type": "markdown",
      "metadata": {
        "id": "DVjNreLhHx_K"
      },
      "source": [
        "The `visualize` module also provides a `depth_over` function, for removing any\n",
        "nodes more than a certain number of \"hops\" away.\n",
        "\n",
        "(Technical detail: If a node has multiple paths from the root, then its \"depth\"\n",
        "is the minimum path length from the root.)"
      ]
    },
    {
      "cell_type": "code",
      "execution_count": 6,
      "metadata": {
        "colab": {
          "height": 232
        },
        "executionInfo": {
          "elapsed": 60,
          "status": "ok",
          "timestamp": 1641844808612,
          "user": {
            "displayName": "",
            "photoUrl": "",
            "userId": ""
          },
          "user_tz": 480
        },
        "id": "t66xexECteIE",
        "outputId": "c2b96a9d-7a85-423f-bc5e-6add197685ff"
      },
      "outputs": [
        {
          "data": {
            "image/svg+xml": "\u003c?xml version=\"1.0\" encoding=\"UTF-8\" standalone=\"no\"?\u003e\n\u003c!DOCTYPE svg PUBLIC \"-//W3C//DTD SVG 1.1//EN\"\n \"http://www.w3.org/Graphics/SVG/1.1/DTD/svg11.dtd\"\u003e\n\u003c!-- Generated by graphviz version 2.44.1 (20201121.0304)\n --\u003e\n\u003c!-- Pages: 1 --\u003e\n\u003csvg width=\"386pt\" height=\"158pt\"\n viewBox=\"0.00 0.00 386.00 158.00\" xmlns=\"http://www.w3.org/2000/svg\" xmlns:xlink=\"http://www.w3.org/1999/xlink\"\u003e\n\u003cg id=\"graph0\" class=\"graph\" transform=\"scale(1 1) rotate(0) translate(4 154)\"\u003e\n\u003cpolygon fill=\"white\" stroke=\"transparent\" points=\"-4,4 -4,-154 382,-154 382,4 -4,4\"/\u003e\n\u003c!-- 1 --\u003e\n\u003cg id=\"node1\" class=\"node\"\u003e\n\u003ctitle\u003e1\u003c/title\u003e\n\u003cpolygon fill=\"#90ee90\" stroke=\"transparent\" points=\"0,-37.5 0,-56.5 180,-56.5 180,-37.5 0,-37.5\"/\u003e\n\u003cpolygon fill=\"none\" stroke=\"black\" points=\"0,-37.5 0,-56.5 180,-56.5 180,-37.5 0,-37.5\"/\u003e\n\u003ctext text-anchor=\"start\" x=\"31.5\" y=\"-45.5\" font-family=\"Courier,monospace\" font-size=\"8.00\"\u003eConfig:\u003c/text\u003e\n\u003ctext text-anchor=\"start\" x=\"63.5\" y=\"-45.5\" font-family=\"Courier,monospace\" font-size=\"10.00\"\u003e SimpleEncoder\u003c/text\u003e\n\u003cpolygon fill=\"#eeeeee\" stroke=\"transparent\" points=\"0,-18.5 0,-37.5 99,-37.5 99,-18.5 0,-18.5\"/\u003e\n\u003cpolygon fill=\"none\" stroke=\"black\" points=\"0,-18.5 0,-37.5 99,-37.5 99,-18.5 0,-18.5\"/\u003e\n\u003ctext text-anchor=\"start\" x=\"10\" y=\"-25.5\" font-family=\"Courier,monospace\" font-size=\"10.00\"\u003etoken_embedder\u003c/text\u003e\n\u003cpolygon fill=\"none\" stroke=\"black\" points=\"99,-18.5 99,-37.5 180,-37.5 180,-18.5 99,-18.5\"/\u003e\n\u003ctext text-anchor=\"start\" x=\"103\" y=\"-26.5\" font-family=\"Courier,monospace\" font-style=\"italic\" font-size=\"10.00\"\u003e(trimmed...)\u003c/text\u003e\n\u003cpolygon fill=\"#eeeeee\" stroke=\"transparent\" points=\"0,0.5 0,-18.5 99,-18.5 99,0.5 0,0.5\"/\u003e\n\u003cpolygon fill=\"none\" stroke=\"black\" points=\"0,0.5 0,-18.5 99,-18.5 99,0.5 0,0.5\"/\u003e\n\u003ctext text-anchor=\"start\" x=\"4\" y=\"-6.5\" font-family=\"Courier,monospace\" font-size=\"10.00\"\u003eoutput_features\u003c/text\u003e\n\u003cpolygon fill=\"none\" stroke=\"black\" points=\"99,0.5 99,-18.5 180,-18.5 180,0.5 99,0.5\"/\u003e\n\u003ctext text-anchor=\"start\" x=\"103\" y=\"-6.5\" font-family=\"Courier,monospace\" font-size=\"10.00\"\u003e12\u003c/text\u003e\n\u003c/g\u003e\n\u003c!-- 0 --\u003e\n\u003cg id=\"node2\" class=\"node\"\u003e\n\u003ctitle\u003e0\u003c/title\u003e\n\u003cpolygon fill=\"#ffc0cb\" stroke=\"transparent\" points=\"76,-130.5 76,-149.5 197,-149.5 197,-130.5 76,-130.5\"/\u003e\n\u003cpolygon fill=\"none\" stroke=\"black\" points=\"76,-130.5 76,-149.5 197,-149.5 197,-130.5 76,-130.5\"/\u003e\n\u003ctext text-anchor=\"start\" x=\"84\" y=\"-138.5\" font-family=\"Courier,monospace\" font-size=\"8.00\"\u003eConfig:\u003c/text\u003e\n\u003ctext text-anchor=\"start\" x=\"116\" y=\"-138.5\" font-family=\"Courier,monospace\" font-size=\"10.00\"\u003e DualEncoder\u003c/text\u003e\n\u003cpolygon fill=\"#eeeeee\" stroke=\"transparent\" points=\"76,-111.5 76,-130.5 181,-130.5 181,-111.5 76,-111.5\"/\u003e\n\u003cpolygon fill=\"none\" stroke=\"black\" points=\"76,-111.5 76,-130.5 181,-130.5 181,-111.5 76,-111.5\"/\u003e\n\u003ctext text-anchor=\"start\" x=\"98\" y=\"-118.5\" font-family=\"Courier,monospace\" font-size=\"10.00\"\u003equery_encoder\u003c/text\u003e\n\u003cpolygon fill=\"none\" stroke=\"black\" points=\"181,-111.5 181,-130.5 197,-130.5 197,-111.5 181,-111.5\"/\u003e\n\u003cpolygon fill=\"#90ee90\" stroke=\"transparent\" points=\"185,-115.5 185,-126.5 193,-126.5 193,-115.5 185,-115.5\"/\u003e\n\u003cpolygon fill=\"none\" stroke=\"black\" points=\"185,-115.5 185,-126.5 193,-126.5 193,-115.5 185,-115.5\"/\u003e\n\u003cpolygon fill=\"#eeeeee\" stroke=\"transparent\" points=\"76,-92.5 76,-111.5 181,-111.5 181,-92.5 76,-92.5\"/\u003e\n\u003cpolygon fill=\"none\" stroke=\"black\" points=\"76,-92.5 76,-111.5 181,-111.5 181,-92.5 76,-92.5\"/\u003e\n\u003ctext text-anchor=\"start\" x=\"80\" y=\"-99.5\" font-family=\"Courier,monospace\" font-size=\"10.00\"\u003edocument_encoder\u003c/text\u003e\n\u003cpolygon fill=\"none\" stroke=\"black\" points=\"181,-92.5 181,-111.5 197,-111.5 197,-92.5 181,-92.5\"/\u003e\n\u003cpolygon fill=\"#fff8dc\" stroke=\"transparent\" points=\"185,-96.5 185,-107.5 193,-107.5 193,-96.5 185,-96.5\"/\u003e\n\u003cpolygon fill=\"none\" stroke=\"black\" points=\"185,-96.5 185,-107.5 193,-107.5 193,-96.5 185,-96.5\"/\u003e\n\u003c/g\u003e\n\u003c!-- 0\u0026#45;\u0026#45;1 --\u003e\n\u003cg id=\"edge1\" class=\"edge\"\u003e\n\u003ctitle\u003e0:c\u0026#45;\u0026#45;1:c\u003c/title\u003e\n\u003cpath fill=\"none\" stroke=\"#000000\" stroke-width=\"3\" stroke-opacity=\"0.188235\" d=\"M184.75,-115.63C173.79,-105.67 143.84,-78.44 120.51,-57.24\"/\u003e\n\u003c/g\u003e\n\u003c!-- 2 --\u003e\n\u003cg id=\"node3\" class=\"node\"\u003e\n\u003ctitle\u003e2\u003c/title\u003e\n\u003cpolygon fill=\"#fff8dc\" stroke=\"transparent\" points=\"198,-37.5 198,-56.5 378,-56.5 378,-37.5 198,-37.5\"/\u003e\n\u003cpolygon fill=\"none\" stroke=\"black\" points=\"198,-37.5 198,-56.5 378,-56.5 378,-37.5 198,-37.5\"/\u003e\n\u003ctext text-anchor=\"start\" x=\"229.5\" y=\"-45.5\" font-family=\"Courier,monospace\" font-size=\"8.00\"\u003eConfig:\u003c/text\u003e\n\u003ctext text-anchor=\"start\" x=\"261.5\" y=\"-45.5\" font-family=\"Courier,monospace\" font-size=\"10.00\"\u003e SimpleEncoder\u003c/text\u003e\n\u003cpolygon fill=\"#eeeeee\" stroke=\"transparent\" points=\"198,-18.5 198,-37.5 297,-37.5 297,-18.5 198,-18.5\"/\u003e\n\u003cpolygon fill=\"none\" stroke=\"black\" points=\"198,-18.5 198,-37.5 297,-37.5 297,-18.5 198,-18.5\"/\u003e\n\u003ctext text-anchor=\"start\" x=\"208\" y=\"-25.5\" font-family=\"Courier,monospace\" font-size=\"10.00\"\u003etoken_embedder\u003c/text\u003e\n\u003cpolygon fill=\"none\" stroke=\"black\" points=\"297,-18.5 297,-37.5 378,-37.5 378,-18.5 297,-18.5\"/\u003e\n\u003ctext text-anchor=\"start\" x=\"301\" y=\"-26.5\" font-family=\"Courier,monospace\" font-style=\"italic\" font-size=\"10.00\"\u003e(trimmed...)\u003c/text\u003e\n\u003cpolygon fill=\"#eeeeee\" stroke=\"transparent\" points=\"198,0.5 198,-18.5 297,-18.5 297,0.5 198,0.5\"/\u003e\n\u003cpolygon fill=\"none\" stroke=\"black\" points=\"198,0.5 198,-18.5 297,-18.5 297,0.5 198,0.5\"/\u003e\n\u003ctext text-anchor=\"start\" x=\"202\" y=\"-6.5\" font-family=\"Courier,monospace\" font-size=\"10.00\"\u003eoutput_features\u003c/text\u003e\n\u003cpolygon fill=\"none\" stroke=\"black\" points=\"297,0.5 297,-18.5 378,-18.5 378,0.5 297,0.5\"/\u003e\n\u003ctext text-anchor=\"start\" x=\"301\" y=\"-6.5\" font-family=\"Courier,monospace\" font-size=\"10.00\"\u003e12\u003c/text\u003e\n\u003c/g\u003e\n\u003c!-- 0\u0026#45;\u0026#45;2 --\u003e\n\u003cg id=\"edge2\" class=\"edge\"\u003e\n\u003ctitle\u003e0:c\u0026#45;\u0026#45;2:c\u003c/title\u003e\n\u003cpath fill=\"none\" stroke=\"#000000\" stroke-width=\"3\" stroke-opacity=\"0.188235\" d=\"M193.25,-97.45C202.95,-90.5 227.53,-72.87 249.23,-57.31\"/\u003e\n\u003c/g\u003e\n\u003c/g\u003e\n\u003c/svg\u003e\n",
            "text/plain": [
              "\u003cgraphviz.dot.Graph at 0x7fdac0dd85d0\u003e"
            ]
          },
          "execution_count": 6,
          "metadata": {},
          "output_type": "execute_result"
        }
      ],
      "source": [
        "graphviz.render(visualize.trimmed(cfg, visualize.depth_over(cfg, 1)))"
      ]
    },
    {
      "cell_type": "markdown",
      "metadata": {
        "id": "L6XKA-XHeBsB"
      },
      "source": [
        "## Plain text printout\n",
        "\n",
        "By default, `fdl.Config` objects have a `__str__` representation that gives configured parameters on one line,"
      ]
    },
    {
      "cell_type": "code",
      "execution_count": 7,
      "metadata": {
        "colab": {
          "height": 104
        },
        "executionInfo": {
          "elapsed": 64,
          "status": "ok",
          "timestamp": 1641844808915,
          "user": {
            "displayName": "",
            "photoUrl": "",
            "userId": ""
          },
          "user_tz": 480
        },
        "id": "WX4f2wj9XsST",
        "outputId": "bee5844e-5aa7-4cfe-f399-43737fd0dc6f"
      },
      "outputs": [
        {
          "data": {
            "application/javascript": [
              "window[\"e98d01dc-724f-11ec-9331-878d2a2b6dc7\"] = colab.output.setWordWrap(true);\n",
              "//# sourceURL=js_59168324cf"
            ],
            "text/plain": [
              "\u003cIPython.core.display.Javascript object\u003e"
            ]
          },
          "metadata": {},
          "output_type": "display_data"
        },
        {
          "name": "stdout",
          "output_type": "stream",
          "text": [
            "\u003cConfig[DualEncoder(query_encoder=\u003cConfig[SimpleEncoder(token_embedder=\u003cConfig[TokenEmbedder(num_embeddings=12, features=3, embedding_init=\u003cConfig[variance_scaling(scale=1.0, mode='fan_in', distribution='normal', out_axis=0)]\u003e)]\u003e, output_features=12)]\u003e, document_encoder=\u003cConfig[SimpleEncoder(token_embedder=\u003cConfig[TokenEmbedder(num_embeddings=12, features=3, embedding_init=\u003cConfig[variance_scaling(scale=1.0, mode='fan_in', distribution='normal', out_axis=0)]\u003e)]\u003e, output_features=12)]\u003e)]\u003e\n"
          ]
        }
      ],
      "source": [
        "%word_wrap on\n",
        "print(base_config())"
      ]
    },
    {
      "cell_type": "markdown",
      "metadata": {
        "id": "1Z-oV6dtXqph"
      },
      "source": [
        "The `printing` library produces `grep`able output, and includes default argument\n",
        "values. This is very useful when dumping all configuration values before\n",
        "launching a giant, expensive model training run. Someone evaluating the artifact\n",
        "later might wonder what `TokenEmbedder`'s dtype is; this will provide it even if\n",
        "its default value is used."
      ]
    },
    {
      "cell_type": "code",
      "execution_count": 8,
      "metadata": {
        "executionInfo": {
          "elapsed": 76,
          "status": "ok",
          "timestamp": 1641844809245,
          "user": {
            "displayName": "",
            "photoUrl": "",
            "userId": ""
          },
          "user_tz": 480
        },
        "id": "71FTXnpUd7Fk",
        "outputId": "fb8992b6-5bd9-469c-a49d-976137c69eb6"
      },
      "outputs": [
        {
          "name": "stdout",
          "output_type": "stream",
          "text": [
            "query_encoder.token_embedder.num_embeddings: int = 12\n",
            "query_encoder.token_embedder.features: int = 3\n",
            "query_encoder.token_embedder.embedding_init.scale = 1.0\n",
            "query_encoder.token_embedder.embedding_init.mode = 'fan_in'\n",
            "query_encoder.token_embedder.embedding_init.distribution = 'normal'\n",
            "query_encoder.token_embedder.embedding_init.in_axis = \u003c[unset; default: -2]\u003e\n",
            "query_encoder.token_embedder.embedding_init.out_axis = 0\n",
            "query_encoder.token_embedder.embedding_init.dtype = \u003c[unset; default: \u003cclass 'jax._src.numpy.lax_numpy.float64'\u003e]\u003e\n",
            "query_encoder.token_embedder.dtype: typing.Any = \u003c[unset; default: \u003cclass 'jax._src.numpy.lax_numpy.float32'\u003e]\u003e\n",
            "query_encoder.token_embedder.parent: typing.Union[typing.Type[ForwardRef('Module')], typing.Type[ForwardRef('Scope')], typing.Type[ForwardRef('_Sentinel')], NoneType] = \u003c[unset; default: \u003cflax.linen.module._Sentinel object at 0x7fdac1488110\u003e]\u003e\n",
            "query_encoder.token_embedder.name: str = \u003c[unset; default: None]\u003e\n",
            "query_encoder.output_features: int = 12\n",
            "query_encoder.parent: typing.Union[typing.Type[ForwardRef('Module')], typing.Type[ForwardRef('Scope')], typing.Type[ForwardRef('_Sentinel')], NoneType] = \u003c[unset; default: \u003cflax.linen.module._Sentinel object at 0x7fdac1488110\u003e]\u003e\n",
            "query_encoder.name: str = \u003c[unset; default: None]\u003e\n",
            "document_encoder.token_embedder.num_embeddings: int = 12\n",
            "document_encoder.token_embedder.features: int = 3\n",
            "document_encoder.token_embedder.embedding_init.scale = 1.0\n",
            "document_encoder.token_embedder.embedding_init.mode = 'fan_in'\n",
            "document_encoder.token_embedder.embedding_init.distribution = 'normal'\n",
            "document_encoder.token_embedder.embedding_init.in_axis = \u003c[unset; default: -2]\u003e\n",
            "document_encoder.token_embedder.embedding_init.out_axis = 0\n",
            "document_encoder.token_embedder.embedding_init.dtype = \u003c[unset; default: \u003cclass 'jax._src.numpy.lax_numpy.float64'\u003e]\u003e\n",
            "document_encoder.token_embedder.dtype: typing.Any = \u003c[unset; default: \u003cclass 'jax._src.numpy.lax_numpy.float32'\u003e]\u003e\n",
            "document_encoder.token_embedder.parent: typing.Union[typing.Type[ForwardRef('Module')], typing.Type[ForwardRef('Scope')], typing.Type[ForwardRef('_Sentinel')], NoneType] = \u003c[unset; default: \u003cflax.linen.module._Sentinel object at 0x7fdac1488110\u003e]\u003e\n",
            "document_encoder.token_embedder.name: str = \u003c[unset; default: None]\u003e\n",
            "document_encoder.output_features: int = 12\n",
            "document_encoder.parent: typing.Union[typing.Type[ForwardRef('Module')], typing.Type[ForwardRef('Scope')], typing.Type[ForwardRef('_Sentinel')], NoneType] = \u003c[unset; default: \u003cflax.linen.module._Sentinel object at 0x7fdac1488110\u003e]\u003e\n",
            "document_encoder.name: str = \u003c[unset; default: None]\u003e\n",
            "parent: typing.Union[typing.Type[ForwardRef('Module')], typing.Type[ForwardRef('Scope')], typing.Type[ForwardRef('_Sentinel')], NoneType] = \u003c[unset; default: \u003cflax.linen.module._Sentinel object at 0x7fdac1488110\u003e]\u003e\n",
            "name: str = \u003c[unset; default: None]\u003e\n"
          ]
        }
      ],
      "source": [
        "print(printing.as_str_flattened(base_config()))"
      ]
    },
    {
      "cell_type": "markdown",
      "metadata": {
        "id": "9iOqOnWIfkGK"
      },
      "source": [
        "### Per-parameter history (aka time-travelling debugging)\n",
        "\n",
        "For debugging purposes and for tracing when a parameter was set, you can use the `history_per_leaf_parameter()` API to print out historical values from each config. This can be useful in large codebases, for tracking\n",
        "down what experimental overrides were applied to a configuration.\n",
        "\n",
        "In the example below, `experiment_config()` overrides `num_embeddings`. You can\n",
        "see both the current value, and the previous value which `base_config()` set. It\n",
        "appears twice because the shared object is printed for both the encoder and\n",
        "decoder."
      ]
    },
    {
      "cell_type": "code",
      "execution_count": 9,
      "metadata": {
        "executionInfo": {
          "elapsed": 4,
          "status": "ok",
          "timestamp": 1641844809434,
          "user": {
            "displayName": "",
            "photoUrl": "",
            "userId": ""
          },
          "user_tz": 480
        },
        "id": "bKWuEhHkfWQ7",
        "outputId": "e4ef8091-637e-4bff-fa79-7343c948e6d1"
      },
      "outputs": [
        {
          "name": "stdout",
          "output_type": "stream",
          "text": [
            "query_encoder.token_embedder.num_embeddings = 40 @ \u003cipython-input-9-1e867d8d9c8e\u003e:3:experiment_config\n",
            "  - previously: 12 @ \u003cipython-input-2-1c737bdff90c\u003e:55:base_config\n",
            "query_encoder.token_embedder.features = 3 @ \u003cipython-input-2-1c737bdff90c\u003e:55:base_config\n",
            "query_encoder.token_embedder.embedding_init.scale = 1.0 @ \u003cipython-input-2-1c737bdff90c\u003e:55:base_config\n",
            "query_encoder.token_embedder.embedding_init.mode = 'fan_in' @ \u003cipython-input-2-1c737bdff90c\u003e:55:base_config\n",
            "query_encoder.token_embedder.embedding_init.distribution = 'normal' @ \u003cipython-input-2-1c737bdff90c\u003e:55:base_config\n",
            "query_encoder.token_embedder.embedding_init.out_axis = 0 @ \u003cipython-input-2-1c737bdff90c\u003e:55:base_config\n",
            "query_encoder.token_embedder.embedding_init.dtype = \u003c[unset]\u003e\n",
            "query_encoder.token_embedder.embedding_init.in_axis = \u003c[unset]\u003e\n",
            "query_encoder.token_embedder.dtype = \u003c[unset]\u003e\n",
            "query_encoder.token_embedder.name = \u003c[unset]\u003e\n",
            "query_encoder.token_embedder.parent = \u003c[unset]\u003e\n",
            "query_encoder.output_features = 12 @ \u003cipython-input-2-1c737bdff90c\u003e:58:base_config\n",
            "query_encoder.name = \u003c[unset]\u003e\n",
            "query_encoder.parent = \u003c[unset]\u003e\n",
            "document_encoder.token_embedder.num_embeddings = 40 @ \u003cipython-input-9-1e867d8d9c8e\u003e:3:experiment_config\n",
            "  - previously: 12 @ \u003cipython-input-2-1c737bdff90c\u003e:55:base_config\n",
            "document_encoder.token_embedder.features = 3 @ \u003cipython-input-2-1c737bdff90c\u003e:55:base_config\n",
            "document_encoder.token_embedder.embedding_init.scale = 1.0 @ \u003cipython-input-2-1c737bdff90c\u003e:55:base_config\n",
            "document_encoder.token_embedder.embedding_init.mode = 'fan_in' @ \u003cipython-input-2-1c737bdff90c\u003e:55:base_config\n",
            "document_encoder.token_embedder.embedding_init.distribution = 'normal' @ \u003cipython-input-2-1c737bdff90c\u003e:55:base_config\n",
            "document_encoder.token_embedder.embedding_init.out_axis = 0 @ \u003cipython-input-2-1c737bdff90c\u003e:55:base_config\n",
            "document_encoder.token_embedder.embedding_init.dtype = \u003c[unset]\u003e\n",
            "document_encoder.token_embedder.embedding_init.in_axis = \u003c[unset]\u003e\n",
            "document_encoder.token_embedder.dtype = \u003c[unset]\u003e\n",
            "document_encoder.token_embedder.name = \u003c[unset]\u003e\n",
            "document_encoder.token_embedder.parent = \u003c[unset]\u003e\n",
            "document_encoder.output_features = 12 @ \u003cipython-input-2-1c737bdff90c\u003e:59:base_config\n",
            "document_encoder.name = \u003c[unset]\u003e\n",
            "document_encoder.parent = \u003c[unset]\u003e\n",
            "name = \u003c[unset]\u003e\n",
            "parent = \u003c[unset]\u003e\n"
          ]
        }
      ],
      "source": [
        "def experiment_config():\n",
        "  cfg = base_config()\n",
        "  cfg.query_encoder.token_embedder.num_embeddings = 40\n",
        "  return cfg\n",
        "\n",
        "\n",
        "print(printing.history_per_leaf_parameter(experiment_config()))"
      ]
    },
    {
      "cell_type": "markdown",
      "metadata": {
        "id": "Gx30VOMKgKCP"
      },
      "source": [
        "## Code generation\n",
        "\n",
        "Finally, Fiddle provides functionality to generate code for a given\n",
        "configuration object. This can be useful for materializing a concrete configuration out of factorized configuration code. Such concrete/flattened configurations may be useful for:\n",
        "\n",
        " * Ensuring there is configuration that matches a durable artifact like a model\n",
        "checkpoint.\n",
        " * Workflows where a successful experiment becomes a new baseline. Having the baseline less factorized can make it more approachable."
      ]
    },
    {
      "cell_type": "code",
      "execution_count": 10,
      "metadata": {
        "executionInfo": {
          "elapsed": 55,
          "status": "ok",
          "timestamp": 1641844809786,
          "user": {
            "displayName": "",
            "photoUrl": "",
            "userId": ""
          },
          "user_tz": 480
        },
        "id": "14qYiRqMgLGC",
        "outputId": "86848170-edc4-416f-d578-b2a693f98703"
      },
      "outputs": [
        {
          "name": "stdout",
          "output_type": "stream",
          "text": [
            "import fiddle as fdl\n",
            "from jax.nn import initializers\n",
            "from jax import numpy as jnp\n",
            "\n",
            "\n",
            "def build_config():\n",
            "  shared_variance_scaling = fdl.Config(initializers.variance_scaling)\n",
            "  shared_variance_scaling.scale = 1.0\n",
            "  shared_variance_scaling.mode = 'fan_in'\n",
            "  shared_variance_scaling.distribution = 'normal'\n",
            "  shared_variance_scaling.out_axis = 0\n",
            "  \n",
            "  shared_token_embedder = fdl.Config(TokenEmbedder)\n",
            "  shared_token_embedder.num_embeddings = 40\n",
            "  shared_token_embedder.features = 3\n",
            "  shared_token_embedder.embedding_init = shared_variance_scaling\n",
            "  shared_token_embedder.dtype = jnp.bfloat16\n",
            "  \n",
            "  root = fdl.Config(DualEncoder)\n",
            "  \n",
            "  root.document_encoder = fdl.Config(SimpleEncoder)\n",
            "  root.document_encoder.output_features = 12\n",
            "  root.document_encoder.token_embedder = shared_token_embedder\n",
            "  \n",
            "  root.query_encoder = fdl.Config(SimpleEncoder)\n",
            "  root.query_encoder.output_features = 12\n",
            "  root.query_encoder.token_embedder = shared_token_embedder\n",
            "  \n",
            "  return root\n"
          ]
        }
      ],
      "source": [
        "# Note: This is a \"Mini AST\" node, which can be programmatically modified.\n",
        "cfg = experiment_config()\n",
        "cfg.query_encoder.token_embedder.dtype = jnp.bfloat16\n",
        "generated = codegen.codegen_dot_syntax(cfg)\n",
        "print(\"\\n\".join(generated.lines()))"
      ]
    },
    {
      "cell_type": "markdown",
      "metadata": {
        "id": "5dH0e1YChila"
      },
      "source": [
        "Sometimes, for larger systems, you'll need to customize how imports are\n",
        "generated, because the module information extracted from classes reflects where\n",
        "the class is actually defined, rather than the canonical code used to access it.\n",
        "Please see the files in `extensions/` for examples of this customization."
      ]
    }
  ],
  "metadata": {
    "colab": {
      "collapsed_sections": [],
      "last_runtime": {
        
        "kind": "private"
      },
      "name": "Visualization, printing, codegen.ipynb",
      "provenance": [
        {
          "file_id": "13UMa3lvZPYMBXbsznLakiQ-jiRxObRiX",
          "timestamp": 1640805605256
        }
      ],
      "toc_visible": true
    },
    "kernelspec": {
      "display_name": "Python 3",
      "name": "python3"
    },
    "language_info": {
      "name": "python"
    }
  },
  "nbformat": 4,
  "nbformat_minor": 0
}
