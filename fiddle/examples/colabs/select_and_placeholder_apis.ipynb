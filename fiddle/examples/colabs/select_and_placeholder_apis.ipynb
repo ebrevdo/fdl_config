{
  "cells": [
    {
      "cell_type": "markdown",
      "metadata": {
        "id": "skoPyRPvA7oe"
      },
      "source": [
        "# Fiddle `select()` and Placeholder APIs\n",
        "\n",
        "_Please see https://github.com/google/fiddle/blob/main/docs/colabs.md for more colabs._\n",
        "\n",
        "The `select()` and `Placeholder` APIs for Fiddle let users concisely change many values in a larger configuration structure.\n",
        "\n",
        "The `select()` API makes it easy to set parameters across all occurrences of specific functions or classes within a config. For example:\n",
        "\n",
        "```python\n",
        "# Set all Dropout classes to have rate 0.1.\n",
        "select(root_cfg, nn.Dropout).set(rate=0.1)\n",
        "```\n",
        "\n",
        "Placeholders are values that are tagged with a key, making it easy to set values that are shared in many places all at once. For example:\n",
        "\n",
        "```python\n",
        "# Set all tagged dtypes, which may be on different functions/classes.\n",
        "fdl.set_placeholder(root_cfg, dtype_key, jnp.bfloat16)\n",
        "```\n",
        "\n",
        "Both of these APIs facilitate configuration to be factorized into setups involving a declaration of the base model (say, `base_model.py`) and several experiment override files (say, `my_experiment_1.py`, `my_experiment_2.py`), where the latter sets values tagged by placeholders, or modifies specific functions or classes using `select`."
      ]
    },
    {
      "cell_type": "code",
      "execution_count": null,
      "metadata": {
        "id": "zrV5XYsnA3XR"
      },
      "outputs": [],
      "source": [
        "!pip install fiddle-config\n",
        "\n",
        "\n",
        "import fiddle as fdl\n",
        "from fiddle import graphviz\n",
        "from fiddle import printing\n",
        "from fiddle.experimental import selectors\n",
        "import fiddle.extensions.jax\n",
        "\n",
        "fiddle.extensions.jax.enable()  # Nicer printout for JAX types; non-essential."
      ]
    },
    {
      "cell_type": "markdown",
      "metadata": {
        "id": "GPZN17mkksqW"
      },
      "source": [
        "## Running example\n",
        "\n",
        "Let's first consider a simple structure of Flax modules. These ones add a range\n",
        "(e.g. an array `[0, 1, 2, 3]`) to their input."
      ]
    },
    {
      "cell_type": "code",
      "execution_count": null,
      "metadata": {
        "id": "oOjuds0gCKWi"
      },
      "outputs": [],
      "source": [
        "from typing import Any\n",
        "\n",
        "from flax import linen as nn\n",
        "from jax import numpy as jnp\n",
        "\n",
        "\n",
        "class AddRange(nn.Module):\n",
        "  start: int\n",
        "  stop: int\n",
        "  dtype: Any\n",
        "\n",
        "  def __call__(self, x):\n",
        "    return x + jnp.arange(self.start, self.stop, dtype=self.dtype)\n",
        "\n",
        "\n",
        "class AddTwoRanges(nn.Module):\n",
        "  add_range_1: AddRange\n",
        "  add_range_2: AddRange\n",
        "\n",
        "  def __call__(self, x):\n",
        "    return self.add_range_2(self.add_range_1(x))\n",
        "\n",
        "\n",
        "cfg = fdl.Config(AddTwoRanges)\n",
        "cfg.add_range_1 = fdl.Config(AddRange, 0, 4, jnp.float32)\n",
        "cfg.add_range_2 = fdl.Config(AddRange, 0, 4, jnp.float32)\n",
        "graphviz.render(cfg)"
      ]
    },
    {
      "cell_type": "markdown",
      "metadata": {
        "id": "ScdT1yf8kyXN"
      },
      "source": [
        "This model can be run as follows (see [this colab](https://colab.sandbox.google.com/github/google/flax/blob/master/docs/notebooks/linen_intro.ipynb) for an introduction to Flax APIs),"
      ]
    },
    {
      "cell_type": "code",
      "execution_count": null,
      "metadata": {
        "id": "XeoDzh5Ok1DR"
      },
      "outputs": [],
      "source": [
        "model = fdl.build(cfg)\n",
        "model.apply({}, jnp.array([1, 2, 1, 2]))"
      ]
    },
    {
      "cell_type": "markdown",
      "metadata": {
        "id": "w1ocy5JLKMan"
      },
      "source": [
        "## `select()` API\n",
        "\n",
        "To enable easier wide-spread modification of configurations, we add a simple tool to select nodes across the configuration DAG, and then set new values on them.\n",
        "\n",
        "The main call into this method is `select()`. It currently takes a root config,\n",
        "and a function or class to select. It returns a `Selection` object,"
      ]
    },
    {
      "cell_type": "code",
      "execution_count": null,
      "metadata": {
        "id": "8L4kkOApI5iS"
      },
      "outputs": [],
      "source": [
        "selectors.select(cfg, AddRange)"
      ]
    },
    {
      "cell_type": "markdown",
      "metadata": {
        "id": "q5rp8tLhKtCV"
      },
      "source": [
        "This `Selection` object supports iteration over selected nodes,"
      ]
    },
    {
      "cell_type": "code",
      "execution_count": null,
      "metadata": {
        "id": "eMMRM-m_KnTO"
      },
      "outputs": [],
      "source": [
        "list(selectors.select(cfg, AddRange))"
      ]
    },
    {
      "cell_type": "markdown",
      "metadata": {
        "id": "PJTWpuMfDQ-W"
      },
      "source": [
        "Let's say we wanted an integer version of our model. Because the `arange` calls have a dtype (hyper)parameter, just sending integer inputs doesn't work (JAX auto-casts the integer side of the addition to a `float`),"
      ]
    },
    {
      "cell_type": "code",
      "execution_count": null,
      "metadata": {
        "id": "w-W1wK5CDPin"
      },
      "outputs": [],
      "source": [
        "# Notice that the output dtype is float32.\n",
        "model.apply({}, jnp.array([1, 2, 1, 2], dtype=jnp.int32))"
      ]
    },
    {
      "cell_type": "markdown",
      "metadata": {
        "id": "a4pwVk6YV-0r"
      },
      "source": [
        "We can use the `select()` API to set both `AddRange` dtypes to `int32`,"
      ]
    },
    {
      "cell_type": "code",
      "execution_count": null,
      "metadata": {
        "id": "iSy4BP9vV4U6"
      },
      "outputs": [],
      "source": [
        "selectors.select(cfg, AddRange).dtype = jnp.int32\n",
        "graphviz.render(cfg)"
      ]
    },
    {
      "cell_type": "markdown",
      "metadata": {
        "id": "PaqYk6uvWIIl"
      },
      "source": [
        "and this will correctly have an integer output,"
      ]
    },
    {
      "cell_type": "code",
      "execution_count": null,
      "metadata": {
        "id": "WmGNevPQDj1_"
      },
      "outputs": [],
      "source": [
        "model = fdl.build(cfg)\n",
        "model.apply({}, jnp.array([1, 2, 1, 2], dtype=jnp.int32))"
      ]
    },
    {
      "cell_type": "markdown",
      "metadata": {
        "id": "KQRdceiJKwfk"
      },
      "source": [
        "`select()` also has a shorthand for setting multiple values,"
      ]
    },
    {
      "cell_type": "code",
      "execution_count": null,
      "metadata": {
        "id": "EMuPgm6gKvIT"
      },
      "outputs": [],
      "source": [
        "selectors.select(cfg, AddRange).set(start=1, stop=10)\n",
        "graphviz.render(cfg)"
      ]
    },
    {
      "cell_type": "markdown",
      "metadata": {
        "id": "NSuWl5rKLQak"
      },
      "source": [
        "An API to get all values for a particular field is also provided; this may be\n",
        "useful for unit testing or debugging,"
      ]
    },
    {
      "cell_type": "code",
      "execution_count": null,
      "metadata": {
        "id": "tmIFX2ofK-wK"
      },
      "outputs": [],
      "source": [
        "list(selectors.select(cfg, AddRange).get('dtype'))"
      ]
    },
    {
      "cell_type": "markdown",
      "metadata": {
        "id": "F0k4aZxUif0B"
      },
      "source": [
        "### Advanced use notes\n",
        "\n",
        "The `Selection` object does not maintain references to the actual nodes it selects, so if the configuration is modified in the meantime, the selection will\n",
        "pick up any added or deleted nodes. Think of it as declarative semantics. To demonstrate,"
      ]
    },
    {
      "cell_type": "code",
      "execution_count": null,
      "metadata": {
        "id": "kKtIhpnviuBt"
      },
      "outputs": [],
      "source": [
        "cfg = fdl.Config(AddTwoRanges)\n",
        "selection = selectors.select(cfg, AddRange)\n",
        "print(\"Current selection:\", list(selection))\n",
        "cfg.add_range_1 = fdl.Config(AddRange, 0, 4, jnp.float32)\n",
        "print(\"After adding a node:\", list(selection))"
      ]
    },
    {
      "cell_type": "markdown",
      "metadata": {
        "id": "b2QP_dUwLtNW"
      },
      "source": [
        "### Suggested usage patterns\n",
        "\n",
        "Finally, for larger configuration modifications, users might find the coding pattern of binding `select` to a root config using `functools.partial` useful, since it allows modifying multiple nodes quickly."
      ]
    },
    {
      "cell_type": "code",
      "execution_count": null,
      "metadata": {
        "id": "lf0FfdKwL8b7"
      },
      "outputs": [],
      "source": [
        "import functools\n",
        "\n",
        "\n",
        "class DropoutResidualBlock(nn.Module):\n",
        "  \"\"\"Module that runs dropout after applying a body computation.\"\"\"\n",
        "\n",
        "  dropout: nn.Module\n",
        "  body: nn.Module\n",
        "\n",
        "  def __call__(self, x):\n",
        "    residual = x\n",
        "    x = self.dropout(self.body(x))\n",
        "    return residual + x\n",
        "\n",
        "\n",
        "# Base experiment definition, typically defined in some kind of `base_model.py`.\n",
        "cfg = fdl.Config(DropoutResidualBlock)\n",
        "cfg.body = fdl.Config(\n",
        "    AddTwoRanges,\n",
        "    fdl.Config(AddRange, 0, 4, jnp.float32),\n",
        "    fdl.Config(AddRange, 0, 4, jnp.float32),\n",
        ")\n",
        "cfg.dropout = fdl.Config(nn.Dropout, deterministic=False)\n",
        "\n",
        "# Experimental modifications, typically in some kind of `my_experiment.py`.\n",
        "select = functools.partial(selectors.select, cfg)\n",
        "select(AddRange).set(start=5, stop=9)\n",
        "select(nn.Dropout).set(rate=0.2)\n",
        "graphviz.render(cfg)"
      ]
    },
    {
      "cell_type": "markdown",
      "metadata": {
        "id": "FplihG2ugnhV"
      },
      "source": [
        "The model can be run, showing some outputs are zeroed based on RNG key,"
      ]
    },
    {
      "cell_type": "code",
      "execution_count": null,
      "metadata": {
        "id": "pJ5C-RvzgmRC"
      },
      "outputs": [],
      "source": [
        "import jax.random\n",
        "\n",
        "model = fdl.build(cfg)\n",
        "inputs = jnp.array([0, 0, 0, 0], dtype=jnp.float32)\n",
        "print(model.apply({}, inputs, rngs={\"dropout\": jax.random.PRNGKey(0)}))\n",
        "print(model.apply({}, inputs, rngs={\"dropout\": jax.random.PRNGKey(1)}))\n",
        "print(model.apply({}, inputs, rngs={\"dropout\": jax.random.PRNGKey(2)}))"
      ]
    },
    {
      "cell_type": "markdown",
      "metadata": {
        "id": "_8WkBktKDr1h"
      },
      "source": [
        "## Placeholder API\n",
        "\n",
        "For simple cases where we only need to set some specific attributes of a single function/class, `select()` will work great. For cases where the attribute we want to modify affects multiple functions/classes, e.g. `dtype`, then this could become cumbersome, because `select()` operates by class, and some classes could name their `dtype` parameter differently.\n",
        "\n",
        "Therefore, Fiddle introduces the concept of placeholders: values that are tagged\n",
        "with a shared key, and can be set all at once. Let's make our example a little\n",
        "more complicated, adding a constant and a range,"
      ]
    },
    {
      "cell_type": "code",
      "execution_count": null,
      "metadata": {
        "id": "DdkPYUCeXPuf"
      },
      "outputs": [],
      "source": [
        "from typing import List\n",
        "\n",
        "\n",
        "class AddConstant(nn.Module):\n",
        "  value: Any\n",
        "  dtype: Any\n",
        "\n",
        "  def __call__(self, x):\n",
        "    return x + jnp.array(self.value, dtype=self.dtype)\n",
        "\n",
        "\n",
        "class Sequential(nn.Module):\n",
        "  submodules: List[nn.Module]\n",
        "\n",
        "  def __call__(self, x):\n",
        "    for module in self.submodules:\n",
        "      x = module(x)\n",
        "    return x\n",
        "\n",
        "\n",
        "cfg = fdl.Config(\n",
        "    Sequential,\n",
        "    submodules=[\n",
        "        fdl.Config(AddRange, 0, 4, jnp.float32),\n",
        "        fdl.Config(AddConstant, 1, jnp.float32),\n",
        "    ])\n",
        "graphviz.render(cfg)"
      ]
    },
    {
      "cell_type": "markdown",
      "metadata": {
        "id": "28mGa5pbX-7V"
      },
      "source": [
        "Just to demonstrate the output of this model:"
      ]
    },
    {
      "cell_type": "code",
      "execution_count": null,
      "metadata": {
        "id": "LsN40RmjX2hI"
      },
      "outputs": [],
      "source": [
        "model = fdl.build(cfg)\n",
        "model.apply({}, jnp.array([1, 2, 1, 2], dtype=jnp.int32))"
      ]
    },
    {
      "cell_type": "markdown",
      "metadata": {
        "id": "_pguXGFoYEOc"
      },
      "source": [
        "Now, let's tag the dtypes with a placeholder key,"
      ]
    },
    {
      "cell_type": "code",
      "execution_count": null,
      "metadata": {
        "id": "MjdCaHATDrV_"
      },
      "outputs": [],
      "source": [
        "dtype_key = fdl.PlaceholderKey(name=\"activation_dtype\")\n",
        "\n",
        "\n",
        "def base_config() -\u003e fdl.Config[Sequential]:\n",
        "  add_range = fdl.Config(AddRange, 0, 4,\n",
        "                         fdl.Placeholder(dtype_key, default=jnp.float32))\n",
        "  add_const = fdl.Config(AddConstant, 1,\n",
        "                         fdl.Placeholder(dtype_key, default=jnp.float32))\n",
        "  return fdl.Config(Sequential, submodules=[add_range, add_const])\n",
        "\n",
        "graphviz.render(base_config())"
      ]
    },
    {
      "cell_type": "markdown",
      "metadata": {
        "id": "HcbWpmQ5YsiR"
      },
      "source": [
        "We can now express an override configuration, which changes both dtypes to `int32` using the `set_placeholder()` invocation,"
      ]
    },
    {
      "cell_type": "code",
      "execution_count": null,
      "metadata": {
        "id": "iF_lEQVfYzfu"
      },
      "outputs": [],
      "source": [
        "def experiment_config() -\u003e fdl.Config[Sequential]:\n",
        "  cfg = base_config()\n",
        "  fdl.set_placeholder(cfg, dtype_key, jnp.int32)\n",
        "  return cfg\n",
        "\n",
        "graphviz.render(experiment_config())"
      ]
    },
    {
      "cell_type": "markdown",
      "metadata": {
        "id": "RqAjr4ssFg3N"
      },
      "source": [
        "and this model has `int32` output, as desired,"
      ]
    },
    {
      "cell_type": "code",
      "execution_count": null,
      "metadata": {
        "id": "k_BESOBdFpcn"
      },
      "outputs": [],
      "source": [
        "model: Sequential = fdl.build(experiment_config())\n",
        "model.apply({}, jnp.array([1, 2, 1, 2], dtype=jnp.int32))"
      ]
    },
    {
      "cell_type": "markdown",
      "metadata": {
        "id": "P8KMwGzNGWPQ"
      },
      "source": [
        "### Advanced use notes\n",
        "\n",
        "There are a few things to note about the `Placeholder` API.\n",
        "\n",
        "First is that `set_placeholder()` sets placeholders by object identity on keys; the key names are basically debugging information. Here we demonstrate setting `add_range_2`'s dtype placeholder to a different key object, and that it is not updated by the `set_placeholder` call. In other words, only `cfg_two_keys.add_range_1.dtype` will end up getting set,\n",
        "\n"
      ]
    },
    {
      "cell_type": "code",
      "execution_count": null,
      "metadata": {
        "id": "Bo1IrYVBFq3V"
      },
      "outputs": [],
      "source": [
        "cfg_two_keys = base_config()\n",
        "other_dtype_key = fdl.PlaceholderKey(name=\"activation_dtype\")\n",
        "cfg_two_keys.submodules[1].dtype = fdl.Placeholder(other_dtype_key, jnp.int32)\n",
        "fdl.set_placeholder(cfg_two_keys, dtype_key, jnp.float64)\n",
        "for submodule_cfg in cfg_two_keys.submodules:\n",
        "  print(submodule_cfg.dtype)"
      ]
    },
    {
      "cell_type": "markdown",
      "metadata": {
        "id": "gr5jRwpfHaZa"
      },
      "source": [
        "Secondly, by convention, the actual `Placeholder` objects are not shared, only `PlaceholderKey`s. This means that if you want to set the `dtype` on a sub-network of a model, e.g. just the encoder of an encoder-decoder model, you can do so. Here we demonstrate setting it on just `add_range_2`,"
      ]
    },
    {
      "cell_type": "code",
      "execution_count": null,
      "metadata": {
        "id": "75f8FshKHEVh"
      },
      "outputs": [],
      "source": [
        "cfg_one_set = base_config()\n",
        "fdl.set_placeholder(cfg_one_set.submodules[1], dtype_key, jnp.bfloat16)\n",
        "for submodule_cfg in cfg_two_keys.submodules:\n",
        "  print(submodule_cfg.dtype)"
      ]
    },
    {
      "cell_type": "markdown",
      "metadata": {
        "id": "Mlxl3EwHImD8"
      },
      "source": [
        "Finally, we've added a little logic to the Graphviz rendering and printing, so you can see placeholders in your configuration,"
      ]
    },
    {
      "cell_type": "code",
      "execution_count": null,
      "metadata": {
        "id": "nXgCWIUxIstW"
      },
      "outputs": [],
      "source": [
        "print(printing.as_str_flattened(base_config()))"
      ]
    },
    {
      "cell_type": "markdown",
      "metadata": {
        "id": "kvSpmbKeJPpC"
      },
      "source": [
        "### Suggested usage patterns\n",
        "\n",
        "We believe the object-identity feature of `PlaceholderKey`s will encourage good code organization. Projects should generally have a file like `fiddle_placeholders.py`, which declares these keys for relevant shared values. Think of them as declaring collections of attributes with a similar meaning.\n",
        "\n",
        "```py\n",
        "activation_dtype = fdl.PlaceholderKey(\"activation_dtype\")\n",
        "embed_dim = fdl.PlaceholderKey(\"embed_dim\")\n",
        "```"
      ]
    }
  ],
  "metadata": {
    "colab": {
      "collapsed_sections": [],
      "last_runtime": {
        
        "kind": "private"
      },
      "name": "select_and_placeholder_apis.ipynb",
      "private_outputs": true,
      "provenance": [
        {
          "file_id": "/path_to_colabs_1/select_and_placeholder_apis.ipynb?workspaceId=:placeholders-select-colab::citc",
          "timestamp": 1639170974100
        },
        {
          "file_id": "1RV5cvbN4kucyd8d_c9JdvV8vy-GLsILg",
          "timestamp": 1639170894600
        }
      ],
      "toc_visible": true
    },
    "kernelspec": {
      "display_name": "Python 3",
      "name": "python3"
    },
    "language_info": {
      "name": "python"
    }
  },
  "nbformat": 4,
  "nbformat_minor": 0
}
